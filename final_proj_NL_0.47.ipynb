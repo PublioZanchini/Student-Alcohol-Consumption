{
 "cells": [
  {
   "cell_type": "markdown",
   "id": "97a47040",
   "metadata": {},
   "source": [
    "# STUDENT ALCOHOL CONSUMPTION"
   ]
  },
  {
   "cell_type": "markdown",
   "id": "30221492",
   "metadata": {},
   "source": [
    "All'inizio sarà analizzato il dataset e le relazioni tra le sue variabili.\n",
    "\n",
    "Una volta completatata l’analisi esplorativa saranno addestrati e confrontati più modelli, indicando quello che otterrà le migliori prestazioni. \n",
    "\n",
    "Per ogni modello, saranno scelti gli iperparametri che produrranno i risultati migliori\n",
    "I modelli saranno valutati con le metriche di valutazione dell'R quadro, l'MSE, il RMSE e il MAE.\n",
    "Le conclusioni sono esposte nel file di presentazione esteso presente nella stessa repository di questo file\n"
   ]
  },
  {
   "cell_type": "markdown",
   "id": "a9f6f14c",
   "metadata": {},
   "source": []
  },
  {
   "cell_type": "code",
   "execution_count": 2,
   "id": "b533e188",
   "metadata": {},
   "outputs": [
    {
     "ename": "ModuleNotFoundError",
     "evalue": "No module named 'xgboost'",
     "output_type": "error",
     "traceback": [
      "\u001b[1;31m---------------------------------------------------------------------------\u001b[0m",
      "\u001b[1;31mModuleNotFoundError\u001b[0m                       Traceback (most recent call last)",
      "\u001b[1;32m~\\AppData\\Local\\Temp/ipykernel_16752/1704116171.py\u001b[0m in \u001b[0;36m<module>\u001b[1;34m\u001b[0m\n\u001b[0;32m     30\u001b[0m \u001b[1;33m\u001b[0m\u001b[0m\n\u001b[0;32m     31\u001b[0m \u001b[1;33m\u001b[0m\u001b[0m\n\u001b[1;32m---> 32\u001b[1;33m \u001b[1;32mimport\u001b[0m \u001b[0mxgboost\u001b[0m                                               \u001b[1;31m# conda install -c anaconda py-xgboost\u001b[0m\u001b[1;33m\u001b[0m\u001b[1;33m\u001b[0m\u001b[0m\n\u001b[0m\u001b[0;32m     33\u001b[0m \u001b[1;32mfrom\u001b[0m \u001b[0msklearn\u001b[0m\u001b[1;33m.\u001b[0m\u001b[0mmodel_selection\u001b[0m \u001b[1;32mimport\u001b[0m \u001b[0mRepeatedKFold\u001b[0m\u001b[1;33m\u001b[0m\u001b[1;33m\u001b[0m\u001b[0m\n\u001b[0;32m     34\u001b[0m \u001b[1;32mfrom\u001b[0m \u001b[0msklearn\u001b[0m\u001b[1;33m.\u001b[0m\u001b[0mmodel_selection\u001b[0m \u001b[1;32mimport\u001b[0m \u001b[0mcross_val_score\u001b[0m\u001b[1;33m\u001b[0m\u001b[1;33m\u001b[0m\u001b[0m\n",
      "\u001b[1;31mModuleNotFoundError\u001b[0m: No module named 'xgboost'"
     ]
    }
   ],
   "source": [
    "import pandas as pd\n",
    "import numpy as np\n",
    "import matplotlib.pyplot as plt\n",
    "import seaborn as sns\n",
    "\n",
    "from sklearn.preprocessing import OneHotEncoder\n",
    "from sklearn.preprocessing import LabelEncoder\n",
    "\n",
    "from sklearn.preprocessing import StandardScaler\n",
    "from sklearn.model_selection import train_test_split\n",
    "\n",
    "from sklearn.linear_model import LinearRegression\n",
    "from sklearn.neighbors import KNeighborsRegressor\n",
    "from sklearn.metrics import mean_squared_error\n",
    "from sklearn.metrics import r2_score\n",
    "from sklearn.metrics import make_scorer\n",
    "from sklearn.metrics import mean_absolute_error\n",
    "\n",
    "from sklearn.model_selection import RandomizedSearchCV\n",
    "from sklearn.model_selection import GridSearchCV\n",
    "from sklearn import tree\n",
    "from sklearn.tree import DecisionTreeRegressor\n",
    "from sklearn.ensemble import RandomForestRegressor\n",
    "\n",
    "from sklearn.cluster import KMeans                           # conda install -c anaconda py-kmeans  \n",
    "from kneed import KneeLocator\n",
    " \n",
    "import hdbscan                                               # conda install -c anaconda py-hdbscan              \n",
    "from sklearn.model_selection import RandomizedSearchCV\n",
    "\n",
    "\n",
    "import xgboost                                               # conda install -c anaconda py-xgboost\n",
    "from sklearn.model_selection import RepeatedKFold\n",
    "from sklearn.model_selection import cross_val_score\n",
    "from xgboost import XGBRegressor\n",
    "\n",
    "import warnings \n",
    "\n",
    "from sklearn.decomposition import PCA\n",
    "warnings.filterwarnings('ignore')\n",
    "\n",
    "\n",
    "from sklearn.ensemble import VotingClassifier\n",
    "from sklearn.ensemble import VotingRegressor\n",
    "\n",
    "from IPython.display import Image\n",
    "from IPython.core.display import HTML"
   ]
  },
  {
   "cell_type": "code",
   "execution_count": null,
   "id": "1eef5aef",
   "metadata": {},
   "outputs": [],
   "source": [
    "df1 = pd.read_csv('student-mat.csv')\n",
    "df2 = pd.read_csv('student-por.csv')"
   ]
  },
  {
   "cell_type": "markdown",
   "id": "f457acf2",
   "metadata": {},
   "source": [
    "# EDA"
   ]
  },
  {
   "cell_type": "code",
   "execution_count": null,
   "id": "01eba5f5",
   "metadata": {},
   "outputs": [],
   "source": [
    "plt.figure(figsize=(14, 12))\n",
    "sns.heatmap(df1.corr(), annot=True)\n",
    "plt.show()"
   ]
  },
  {
   "cell_type": "markdown",
   "id": "0bb21038",
   "metadata": {},
   "source": [
    "Better performances in early and mid term is usually linked to better performances in final exams.\n",
    "\n",
    "Interestingly, Mother education and Father education seem to be correlated; both this features are positively correlated with the student mark\n",
    "\n",
    "A high go out count is positively correlated with higher alcohol consumption.\n",
    "\n",
    "The number of failures is negatively correlated with marks.\n",
    "\n",
    "\n",
    "\n",
    "Alcohol consumption doesn't seem to have a strong linear correlation with academic performance."
   ]
  },
  {
   "cell_type": "code",
   "execution_count": null,
   "id": "5b147374",
   "metadata": {},
   "outputs": [],
   "source": [
    "print(f\"Unique values of workday alcohol consumption (Dalc): {df1['Dalc'].unique().tolist()}\")\n",
    "print(f\"Unique values of weekend alcohol consumption (Walc): {df1['Walc'].unique().tolist()}\")\n",
    "print(f\"Students drink alcohol at least {min((df1['Dalc'] + df1['Walc']).unique().tolist())} times in a week\")"
   ]
  },
  {
   "cell_type": "code",
   "execution_count": null,
   "id": "ad4eec63",
   "metadata": {},
   "outputs": [],
   "source": [
    "df1['Talc'] = round((df1['Dalc'] + df1['Walc'])/2,0)\n",
    "print(((df1['Dalc'] + df1['Walc'])/2).unique().tolist())\n",
    "print(f\"Unique values of total alcohol consumption (Talc): {df1['Talc'].unique().tolist()}\")"
   ]
  },
  {
   "cell_type": "code",
   "execution_count": null,
   "id": "ec2366ec",
   "metadata": {},
   "outputs": [],
   "source": [
    "df1['Talc'].value_counts()"
   ]
  },
  {
   "cell_type": "code",
   "execution_count": null,
   "id": "4d5d0bd8",
   "metadata": {},
   "outputs": [],
   "source": [
    "#Total alcool consumption -> Talc\n",
    "\n",
    "list = []\n",
    "for i in range(5):\n",
    "    list.append(len(df1[df1.Talc == i+1]))\n",
    "ax = sns.barplot(x = [1,2,3,4,5], y = list)\n",
    "plt.ylabel('Number of Students')\n",
    "plt.xlabel('Level of Alcohol consumption')"
   ]
  },
  {
   "cell_type": "markdown",
   "id": "d3ed807a",
   "metadata": {},
   "source": [
    "Most students have low/moderate weekly alcohol consumption."
   ]
  },
  {
   "cell_type": "code",
   "execution_count": 3,
   "id": "0a1fa5cf",
   "metadata": {},
   "outputs": [
    {
     "ename": "NameError",
     "evalue": "name 'df1' is not defined",
     "output_type": "error",
     "traceback": [
      "\u001b[1;31m---------------------------------------------------------------------------\u001b[0m",
      "\u001b[1;31mNameError\u001b[0m                                 Traceback (most recent call last)",
      "\u001b[1;32m~\\AppData\\Local\\Temp/ipykernel_16752/1140229113.py\u001b[0m in \u001b[0;36m<module>\u001b[1;34m\u001b[0m\n\u001b[1;32m----> 1\u001b[1;33m \u001b[0mdf1\u001b[0m\u001b[1;33m.\u001b[0m\u001b[0misnull\u001b[0m\u001b[1;33m(\u001b[0m\u001b[1;33m)\u001b[0m\u001b[1;33m.\u001b[0m\u001b[0msum\u001b[0m\u001b[1;33m(\u001b[0m\u001b[1;33m)\u001b[0m\u001b[1;33m\u001b[0m\u001b[1;33m\u001b[0m\u001b[0m\n\u001b[0m",
      "\u001b[1;31mNameError\u001b[0m: name 'df1' is not defined"
     ]
    }
   ],
   "source": [
    "df1.isnull().sum()"
   ]
  },
  {
   "cell_type": "code",
   "execution_count": null,
   "id": "04c04851",
   "metadata": {},
   "outputs": [],
   "source": [
    "df1['Avg_mark']= (df1['G1']+df1['G2']+df1['G3'])/3\n",
    "df1[['G1','G2','G3','Avg_mark']].describe()"
   ]
  },
  {
   "cell_type": "markdown",
   "id": "f99af63c",
   "metadata": {},
   "source": [
    "As the values of G1, G2, G3 give almost the same information they have been averaged in a single value \"Avg Mark\""
   ]
  },
  {
   "cell_type": "code",
   "execution_count": null,
   "id": "d5294a92",
   "metadata": {},
   "outputs": [],
   "source": [
    "sizes_G3 = []\n",
    "for i in range(1,6):\n",
    "    sizes_G3.append(sum(df1[df1.Talc == i].G3))\n",
    "total_G3 = sum(sizes_G3)\n",
    "G3_average = total_G3/float(len(df1))\n",
    "print(f\"Total score for the final grade: {total_G3}\")\n",
    "print(f\"Average of the final grade over all the dataset: {G3_average}\")\n",
    "\n",
    "\n",
    "labels = ['1','2','3','4','5']\n",
    "colors = ['lime','blue','orange','cyan','grey']\n",
    "explode = [0,0,0,0,0]\n",
    "plt.pie(sizes_G3,explode=explode,colors=colors,labels=labels,autopct = '%1.1f%%')\n",
    "plt.axis('equal')\n",
    "plt.title('Total grade : '+str(total_G3))\n",
    "plt.xlabel('Students final grade distribution according to weekly alcohol consumption')"
   ]
  },
  {
   "cell_type": "code",
   "execution_count": null,
   "id": "8e7c483f",
   "metadata": {},
   "outputs": [],
   "source": [
    "sizes_avg = []\n",
    "for i in range(1,6):\n",
    "    sizes_avg.append(sum(df1[df1.Talc == i].Avg_mark))\n",
    "total_avg_mark = sum(sizes_avg)\n",
    "mark_average = total_avg_mark/float(len(df1))\n",
    "print(f\"Total score for the average mark: {total_avg_mark}\")\n",
    "print(f\"Average of the average mark over all the dataset: {mark_average}\")\n",
    "\n",
    "labels = ['1','2','3','4','5']\n",
    "colors = ['lime','blue','orange','cyan','grey']\n",
    "explode = [0,0,0,0,0]\n",
    "plt.pie(sizes_avg,explode=explode,colors=colors,labels=labels,autopct = '%1.1f%%')\n",
    "plt.axis('equal')\n",
    "plt.title('Total grade : '+str(total_avg_mark))\n",
    "plt.xlabel('Students final grade distribution according to weekly alcohol consumption')"
   ]
  },
  {
   "cell_type": "code",
   "execution_count": null,
   "id": "ef1f673b",
   "metadata": {},
   "outputs": [],
   "source": [
    "f, axes=plt.subplots(2,1,figsize=(15,14))\n",
    "\n",
    "pd.Series({item:df1[df1.Talc==item]['G3'].mean() for item in df1.Talc.unique()}).sort_values().plot(kind='barh', \n",
    "             title='How Alcohol Consumption Influences the average final grade (G3)',\n",
    "            xlabel='Level of Total Alcohol Consumption', ax=axes[0])\n",
    "\n",
    "pd.Series({item:df1[df1.Talc==item]['Avg_mark'].mean() for item in df1.Talc.unique()}).sort_values().plot(kind='barh', \n",
    "             title='How Alcohol Consumption Influences the average yearly mark',\n",
    "            xlabel='Level of Total Alcohol Consumption', ax=axes[1])\n",
    "\n",
    "plt.show()"
   ]
  },
  {
   "cell_type": "markdown",
   "id": "24a562ca",
   "metadata": {},
   "source": [
    "Students who have low/moderate weekly alcohol consumption in a week more tends to have better academic performance. "
   ]
  },
  {
   "cell_type": "code",
   "execution_count": 4,
   "id": "25cc0121",
   "metadata": {},
   "outputs": [
    {
     "ename": "NameError",
     "evalue": "name 'df1' is not defined",
     "output_type": "error",
     "traceback": [
      "\u001b[1;31m---------------------------------------------------------------------------\u001b[0m",
      "\u001b[1;31mNameError\u001b[0m                                 Traceback (most recent call last)",
      "\u001b[1;32m~\\AppData\\Local\\Temp/ipykernel_16752/2495973380.py\u001b[0m in \u001b[0;36m<module>\u001b[1;34m\u001b[0m\n\u001b[0;32m      2\u001b[0m \u001b[1;33m\u001b[0m\u001b[0m\n\u001b[0;32m      3\u001b[0m \u001b[1;33m\u001b[0m\u001b[0m\n\u001b[1;32m----> 4\u001b[1;33m \u001b[0mavg_res\u001b[0m \u001b[1;33m=\u001b[0m \u001b[0msum\u001b[0m\u001b[1;33m(\u001b[0m\u001b[0mdf1\u001b[0m\u001b[1;33m.\u001b[0m\u001b[0mAvg_mark\u001b[0m\u001b[1;33m)\u001b[0m\u001b[1;33m/\u001b[0m\u001b[0mfloat\u001b[0m\u001b[1;33m(\u001b[0m\u001b[0mlen\u001b[0m\u001b[1;33m(\u001b[0m\u001b[0mdf1\u001b[0m\u001b[1;33m)\u001b[0m\u001b[1;33m)\u001b[0m\u001b[1;33m\u001b[0m\u001b[1;33m\u001b[0m\u001b[0m\n\u001b[0m\u001b[0;32m      5\u001b[0m \u001b[0mdf1\u001b[0m\u001b[1;33m[\u001b[0m\u001b[1;34m'avg_line'\u001b[0m\u001b[1;33m]\u001b[0m \u001b[1;33m=\u001b[0m \u001b[0mavg_res\u001b[0m\u001b[1;33m\u001b[0m\u001b[1;33m\u001b[0m\u001b[0m\n\u001b[0;32m      6\u001b[0m \u001b[0mdf1\u001b[0m\u001b[1;33m[\u001b[0m\u001b[1;34m'average'\u001b[0m\u001b[1;33m]\u001b[0m \u001b[1;33m=\u001b[0m \u001b[1;33m[\u001b[0m\u001b[1;34m'above average'\u001b[0m \u001b[1;32mif\u001b[0m \u001b[0mi\u001b[0m \u001b[1;33m>\u001b[0m \u001b[0mavg_res\u001b[0m \u001b[1;32melse\u001b[0m \u001b[1;34m'under average'\u001b[0m \u001b[1;32mfor\u001b[0m \u001b[0mi\u001b[0m \u001b[1;32min\u001b[0m \u001b[0mdf1\u001b[0m\u001b[1;33m.\u001b[0m\u001b[0mAvg_mark\u001b[0m\u001b[1;33m]\u001b[0m\u001b[1;33m\u001b[0m\u001b[1;33m\u001b[0m\u001b[0m\n",
      "\u001b[1;31mNameError\u001b[0m: name 'df1' is not defined"
     ]
    }
   ],
   "source": [
    "# A swarm plot is a type of scatter plot that is used for representing categorical values.\n",
    "\n",
    "\n",
    "avg_res = sum(df1.Avg_mark)/float(len(df1))\n",
    "df1['avg_line'] = avg_res\n",
    "df1['average'] = ['above average' if i > avg_res else 'under average' for i in df1.Avg_mark]\n",
    "sns.swarmplot(x='Talc', y = 'Avg_mark', hue = 'average',data= df1,palette={'above average':'lime', 'under average': 'red'})\n",
    "plt.savefig('graph.png')"
   ]
  },
  {
   "cell_type": "markdown",
   "id": "140cab20",
   "metadata": {},
   "source": [
    "Most of the students with an alcohol consumption of level of 3 and 4 perform under average\n",
    "Alcohol consumption levels of 1, 2 and 5 don't seem directly linked with a specific level of academic performance"
   ]
  },
  {
   "cell_type": "code",
   "execution_count": null,
   "id": "379a5ce6",
   "metadata": {},
   "outputs": [],
   "source": [
    "for i in [1.0, 2.0, 3.0, 4.0, 5.0]:\n",
    "    avg_per_Talc = sum(df1[df1.Talc == i].Avg_mark)/float(len(df1[df1.Talc == i])) \n",
    "    perc_passing = len(df1[(df1.Talc == i) & (df1.average == 'above average')])/len(df1[df1.average == 'above average'])\n",
    "    print(f\"Percentage of students with {i} value of Talc that has above average grade is {perc_passing}\")"
   ]
  },
  {
   "cell_type": "code",
   "execution_count": null,
   "id": "39af50c4",
   "metadata": {},
   "outputs": [],
   "source": [
    "f, axes=plt.subplots(2,1,figsize=(20,30))\n",
    "\n",
    "sns.boxplot(data=df1, x='Talc', y='absences', ax=axes[0]).set(title='How the level of weekly alcohol consumption influences the number of absences')\n",
    "\n",
    "sns.boxplot(data=df1, x='Talc', y='failures', ax=axes[1]).set(title='How the level of weekly alcohol consumption influences the number of failures')\n",
    "\n",
    "plt.show()"
   ]
  },
  {
   "cell_type": "markdown",
   "id": "ff84cc4a",
   "metadata": {},
   "source": [
    "The higher the weekly alcohol consumption the higher the median value and maxiumum of absences and failures."
   ]
  },
  {
   "cell_type": "code",
   "execution_count": null,
   "id": "7864541c",
   "metadata": {},
   "outputs": [],
   "source": [
    "f, axes=plt.subplots(6,2, figsize=(20,30))\n",
    "plt.subplots_adjust(hspace=0.5)\n",
    "\n",
    "for i,feature in enumerate(['famsize','Pstatus','sex','school','Mjob','Fjob','failures',\n",
    "                  'higher','famrel','freetime','goout','health']):\n",
    "    df1.groupby(feature)['Talc'].mean().sort_values().plot(kind='barh', ax=axes[i//2, i%2],\n",
    "                            title='How '+feature.capitalize()+' Influences Alcohol Consumption')\n",
    "    \n",
    "plt.show()\n",
    "\n",
    "# x:  alcohol consumption mean level value\n",
    "# y:  feature "
   ]
  },
  {
   "cell_type": "markdown",
   "id": "77f2cce2",
   "metadata": {},
   "source": [
    "# ENCODING"
   ]
  },
  {
   "cell_type": "code",
   "execution_count": null,
   "id": "74c9b924",
   "metadata": {},
   "outputs": [],
   "source": [
    "df1.drop(['avg_line','average'], axis=1, inplace=True)\n",
    "df1['Talc'] = df1['Talc'].astype(np.int64)\n",
    "df1.dtypes"
   ]
  },
  {
   "cell_type": "code",
   "execution_count": 5,
   "id": "3b04acfd",
   "metadata": {},
   "outputs": [
    {
     "ename": "NameError",
     "evalue": "name 'df1' is not defined",
     "output_type": "error",
     "traceback": [
      "\u001b[1;31m---------------------------------------------------------------------------\u001b[0m",
      "\u001b[1;31mNameError\u001b[0m                                 Traceback (most recent call last)",
      "\u001b[1;32m~\\AppData\\Local\\Temp/ipykernel_16752/3108080779.py\u001b[0m in \u001b[0;36m<module>\u001b[1;34m\u001b[0m\n\u001b[1;32m----> 1\u001b[1;33m \u001b[0mnonnumeric_columns\u001b[0m \u001b[1;33m=\u001b[0m \u001b[1;33m[\u001b[0m\u001b[0mdf1\u001b[0m\u001b[1;33m.\u001b[0m\u001b[0mcolumns\u001b[0m\u001b[1;33m[\u001b[0m\u001b[0mindex\u001b[0m\u001b[1;33m]\u001b[0m \u001b[1;32mfor\u001b[0m \u001b[0mindex\u001b[0m\u001b[1;33m,\u001b[0m \u001b[0mdtype\u001b[0m \u001b[1;32min\u001b[0m \u001b[0menumerate\u001b[0m\u001b[1;33m(\u001b[0m\u001b[0mdf1\u001b[0m\u001b[1;33m.\u001b[0m\u001b[0mdtypes\u001b[0m\u001b[1;33m)\u001b[0m \u001b[1;32mif\u001b[0m \u001b[0mdtype\u001b[0m \u001b[1;33m==\u001b[0m \u001b[1;34m'object'\u001b[0m\u001b[1;33m]\u001b[0m\u001b[1;33m\u001b[0m\u001b[1;33m\u001b[0m\u001b[0m\n\u001b[0m\u001b[0;32m      2\u001b[0m \u001b[0mnonnumeric_columns\u001b[0m\u001b[1;33m\u001b[0m\u001b[1;33m\u001b[0m\u001b[0m\n",
      "\u001b[1;31mNameError\u001b[0m: name 'df1' is not defined"
     ]
    }
   ],
   "source": [
    "nonnumeric_columns = [df1.columns[index] for index, dtype in enumerate(df1.dtypes) if dtype == 'object']\n",
    "nonnumeric_columns"
   ]
  },
  {
   "cell_type": "code",
   "execution_count": null,
   "id": "eded0e49",
   "metadata": {},
   "outputs": [],
   "source": [
    "numeric_columns = [df1.columns[index] for index, dtype in enumerate(df1.dtypes) if dtype == 'int64']\n",
    "numeric_columns"
   ]
  },
  {
   "cell_type": "code",
   "execution_count": null,
   "id": "2d8f0843",
   "metadata": {},
   "outputs": [],
   "source": [
    "numeric_columns.remove(\"Dalc\")\n",
    "numeric_columns.remove(\"Walc\")\n",
    "numeric_columns.remove(\"G1\")\n",
    "numeric_columns.remove(\"G2\")\n",
    "numeric_columns.remove(\"G3\")#avoid linear dependance in model, average of the three marks is target vector"
   ]
  },
  {
   "cell_type": "code",
   "execution_count": null,
   "id": "8179f92b",
   "metadata": {},
   "outputs": [],
   "source": [
    "for column in nonnumeric_columns:\n",
    "    print(f\"{column}: {df1[column].unique()}\")"
   ]
  },
  {
   "cell_type": "code",
   "execution_count": null,
   "id": "b1a76684",
   "metadata": {},
   "outputs": [],
   "source": [
    "cat_label_list = ['Mjob','Fjob', 'reason','guardian']"
   ]
  },
  {
   "cell_type": "code",
   "execution_count": null,
   "id": "4338fe7a",
   "metadata": {},
   "outputs": [],
   "source": [
    "one_hot_enc_list = [x for x in nonnumeric_columns if x not in cat_label_list]"
   ]
  },
  {
   "cell_type": "code",
   "execution_count": 6,
   "id": "ab58a748",
   "metadata": {},
   "outputs": [
    {
     "ename": "NameError",
     "evalue": "name 'one_hot_enc_list' is not defined",
     "output_type": "error",
     "traceback": [
      "\u001b[1;31m---------------------------------------------------------------------------\u001b[0m",
      "\u001b[1;31mNameError\u001b[0m                                 Traceback (most recent call last)",
      "\u001b[1;32m~\\AppData\\Local\\Temp/ipykernel_16752/1466592591.py\u001b[0m in \u001b[0;36m<module>\u001b[1;34m\u001b[0m\n\u001b[1;32m----> 1\u001b[1;33m \u001b[0mone_hot_enc_list\u001b[0m\u001b[1;33m\u001b[0m\u001b[1;33m\u001b[0m\u001b[0m\n\u001b[0m",
      "\u001b[1;31mNameError\u001b[0m: name 'one_hot_enc_list' is not defined"
     ]
    }
   ],
   "source": [
    "one_hot_enc_list"
   ]
  },
  {
   "cell_type": "code",
   "execution_count": null,
   "id": "f8f89745",
   "metadata": {},
   "outputs": [],
   "source": [
    "X_cat_l = df1[cat_label_list] #only categorical labels\n",
    "X_cat_oh = df1[one_hot_enc_list] #only categorical onehot columns(cioè 0 o 1)\n",
    "X_num = df1[numeric_columns] #only numerical columns\n",
    "label = ['Avg_mark'] # target\n",
    "feat_names = one_hot_enc_list+ cat_label_list+ numeric_columns # feature list"
   ]
  },
  {
   "cell_type": "code",
   "execution_count": null,
   "id": "db45440e",
   "metadata": {},
   "outputs": [],
   "source": [
    "feat_names"
   ]
  },
  {
   "cell_type": "code",
   "execution_count": null,
   "id": "27421796",
   "metadata": {},
   "outputs": [],
   "source": [
    "''' The fit method is calculating the mean and variance of each of the features present in our data. \n",
    "The transform method is transforming all the features using the respective mean and variance.\n",
    "'''\n",
    "\n",
    "X_cat_l = X_cat_l.apply(LabelEncoder().fit_transform)\n",
    "X_cat_l.shape"
   ]
  },
  {
   "cell_type": "code",
   "execution_count": null,
   "id": "14c67e62",
   "metadata": {},
   "outputs": [],
   "source": [
    "X_cat_l.describe()"
   ]
  },
  {
   "cell_type": "code",
   "execution_count": null,
   "id": "88358b1b",
   "metadata": {},
   "outputs": [],
   "source": [
    "ohe = OneHotEncoder(sparse=False, drop='if_binary')\n",
    "X_cat_oh = ohe.fit_transform(X_cat_oh)\n",
    "X_cat_oh"
   ]
  },
  {
   "cell_type": "code",
   "execution_count": null,
   "id": "274759ad",
   "metadata": {},
   "outputs": [],
   "source": [
    "X = np.concatenate([X_cat_oh, X_cat_l, X_num], axis=1)\n",
    "\n",
    "X"
   ]
  },
  {
   "cell_type": "code",
   "execution_count": null,
   "id": "1a0bd42a",
   "metadata": {},
   "outputs": [],
   "source": [
    "y = df1[label].values\n"
   ]
  },
  {
   "cell_type": "code",
   "execution_count": 7,
   "id": "a57ea1c5",
   "metadata": {},
   "outputs": [
    {
     "ename": "NameError",
     "evalue": "name 'y' is not defined",
     "output_type": "error",
     "traceback": [
      "\u001b[1;31m---------------------------------------------------------------------------\u001b[0m",
      "\u001b[1;31mNameError\u001b[0m                                 Traceback (most recent call last)",
      "\u001b[1;32m~\\AppData\\Local\\Temp/ipykernel_16752/3563912222.py\u001b[0m in \u001b[0;36m<module>\u001b[1;34m\u001b[0m\n\u001b[1;32m----> 1\u001b[1;33m \u001b[0my\u001b[0m\u001b[1;33m\u001b[0m\u001b[1;33m\u001b[0m\u001b[0m\n\u001b[0m",
      "\u001b[1;31mNameError\u001b[0m: name 'y' is not defined"
     ]
    }
   ],
   "source": [
    "y"
   ]
  },
  {
   "cell_type": "code",
   "execution_count": null,
   "id": "c20b7429",
   "metadata": {},
   "outputs": [],
   "source": [
    "X"
   ]
  },
  {
   "cell_type": "code",
   "execution_count": null,
   "id": "2f4f366c",
   "metadata": {},
   "outputs": [],
   "source": [
    "X = pd.DataFrame(X)"
   ]
  },
  {
   "cell_type": "code",
   "execution_count": null,
   "id": "f376672c",
   "metadata": {},
   "outputs": [],
   "source": [
    "X"
   ]
  },
  {
   "cell_type": "code",
   "execution_count": null,
   "id": "37c328d3",
   "metadata": {},
   "outputs": [],
   "source": [
    "scaler = StandardScaler()\n",
    "\n",
    "X = pd.DataFrame(scaler.fit_transform(X), columns=X.columns)"
   ]
  },
  {
   "cell_type": "code",
   "execution_count": 8,
   "id": "81ef11e6",
   "metadata": {},
   "outputs": [
    {
     "ename": "NameError",
     "evalue": "name 'X' is not defined",
     "output_type": "error",
     "traceback": [
      "\u001b[1;31m---------------------------------------------------------------------------\u001b[0m",
      "\u001b[1;31mNameError\u001b[0m                                 Traceback (most recent call last)",
      "\u001b[1;32m~\\AppData\\Local\\Temp/ipykernel_16752/3167325003.py\u001b[0m in \u001b[0;36m<module>\u001b[1;34m\u001b[0m\n\u001b[1;32m----> 1\u001b[1;33m \u001b[0mX_train\u001b[0m\u001b[1;33m,\u001b[0m \u001b[0mX_test\u001b[0m\u001b[1;33m,\u001b[0m \u001b[0my_train\u001b[0m\u001b[1;33m,\u001b[0m \u001b[0my_test\u001b[0m \u001b[1;33m=\u001b[0m \u001b[0mtrain_test_split\u001b[0m\u001b[1;33m(\u001b[0m\u001b[0mX\u001b[0m\u001b[1;33m,\u001b[0m \u001b[0my\u001b[0m\u001b[1;33m,\u001b[0m \u001b[0mtrain_size\u001b[0m\u001b[1;33m=\u001b[0m\u001b[1;36m0.7\u001b[0m\u001b[1;33m,\u001b[0m \u001b[0mrandom_state\u001b[0m\u001b[1;33m=\u001b[0m\u001b[1;36m42\u001b[0m\u001b[1;33m)\u001b[0m\u001b[1;33m\u001b[0m\u001b[1;33m\u001b[0m\u001b[0m\n\u001b[0m",
      "\u001b[1;31mNameError\u001b[0m: name 'X' is not defined"
     ]
    }
   ],
   "source": [
    "X_train, X_test, y_train, y_test = train_test_split(X, y, train_size=0.7, random_state=42)"
   ]
  },
  {
   "cell_type": "code",
   "execution_count": null,
   "id": "66776226",
   "metadata": {},
   "outputs": [],
   "source": [
    "result = {}"
   ]
  },
  {
   "cell_type": "markdown",
   "id": "c8fe92e9",
   "metadata": {},
   "source": [
    "# LINEAR REGRESSION"
   ]
  },
  {
   "cell_type": "code",
   "execution_count": null,
   "id": "874b764f",
   "metadata": {},
   "outputs": [],
   "source": [
    "model_lr = LinearRegression()\n",
    "model_lr.fit(X_train, y_train)"
   ]
  },
  {
   "cell_type": "code",
   "execution_count": null,
   "id": "73e6c856",
   "metadata": {},
   "outputs": [],
   "source": [
    "y_lr_pred=model_lr.predict(X_test)"
   ]
  },
  {
   "cell_type": "code",
   "execution_count": null,
   "id": "2c383cfc",
   "metadata": {},
   "outputs": [],
   "source": [
    "r_2_lr = round(r2_score(y_test, y_lr_pred),4)\n",
    "print(f\"Model R2: {r_2_lr}\")"
   ]
  },
  {
   "cell_type": "code",
   "execution_count": null,
   "id": "41eb8b2a",
   "metadata": {},
   "outputs": [],
   "source": [
    "coef_list = model_lr.coef_"
   ]
  },
  {
   "cell_type": "code",
   "execution_count": 9,
   "id": "65a8f2a9",
   "metadata": {},
   "outputs": [
    {
     "ename": "NameError",
     "evalue": "name 'coef_list' is not defined",
     "output_type": "error",
     "traceback": [
      "\u001b[1;31m---------------------------------------------------------------------------\u001b[0m",
      "\u001b[1;31mNameError\u001b[0m                                 Traceback (most recent call last)",
      "\u001b[1;32m~\\AppData\\Local\\Temp/ipykernel_16752/2136389715.py\u001b[0m in \u001b[0;36m<module>\u001b[1;34m\u001b[0m\n\u001b[1;32m----> 1\u001b[1;33m \u001b[0mcoef_list\u001b[0m\u001b[1;33m\u001b[0m\u001b[1;33m\u001b[0m\u001b[0m\n\u001b[0m",
      "\u001b[1;31mNameError\u001b[0m: name 'coef_list' is not defined"
     ]
    }
   ],
   "source": [
    "coef_list"
   ]
  },
  {
   "cell_type": "code",
   "execution_count": null,
   "id": "c881a534",
   "metadata": {},
   "outputs": [],
   "source": [
    "importance = coef_list[0]"
   ]
  },
  {
   "cell_type": "code",
   "execution_count": null,
   "id": "b195c63b",
   "metadata": {},
   "outputs": [],
   "source": [
    "# summarize feature importance\n",
    "arg_sort_coef_list = np.argsort(coef_list[0], axis=- 1)"
   ]
  },
  {
   "cell_type": "code",
   "execution_count": null,
   "id": "f37f1d76",
   "metadata": {},
   "outputs": [],
   "source": [
    "importance = np.sort(coef_list[0], axis=- 1)"
   ]
  },
  {
   "cell_type": "code",
   "execution_count": null,
   "id": "1398d87c",
   "metadata": {},
   "outputs": [],
   "source": [
    "feat_names_lr_sorted =  np.array(feat_names)[arg_sort_coef_list]"
   ]
  },
  {
   "cell_type": "code",
   "execution_count": null,
   "id": "04b644bb",
   "metadata": {},
   "outputs": [],
   "source": [
    "for i,v in enumerate(importance):\n",
    "    print('Feature: {} Importance: {}'.format(feat_names_lr_sorted[i],v))\n",
    "    "
   ]
  },
  {
   "cell_type": "markdown",
   "id": "434555be",
   "metadata": {},
   "source": [
    "Negative number: inverse correlation (the lower the value of that feature the higher the value of the average mark)\n",
    "Positive number: linear correlation (the higher the value of that feature the higher the value of the average mark)"
   ]
  },
  {
   "cell_type": "markdown",
   "id": "dfcdb87e",
   "metadata": {},
   "source": [
    "Number of failures, level of going out with friends,  level of family educational support are the feature with the highest negative correlation with academic performance\n",
    "\n",
    "The desire of pursuing a higher education, studytime, Mother's education Importance are the feature with the highest negative correlation with academic performance\n"
   ]
  },
  {
   "cell_type": "code",
   "execution_count": 10,
   "id": "41c18d51",
   "metadata": {},
   "outputs": [
    {
     "ename": "NameError",
     "evalue": "name 'importance' is not defined",
     "output_type": "error",
     "traceback": [
      "\u001b[1;31m---------------------------------------------------------------------------\u001b[0m",
      "\u001b[1;31mNameError\u001b[0m                                 Traceback (most recent call last)",
      "\u001b[1;32m~\\AppData\\Local\\Temp/ipykernel_16752/1969236026.py\u001b[0m in \u001b[0;36m<module>\u001b[1;34m\u001b[0m\n\u001b[0;32m      1\u001b[0m \u001b[1;31m# plot feature importance\u001b[0m\u001b[1;33m\u001b[0m\u001b[1;33m\u001b[0m\u001b[0m\n\u001b[1;32m----> 2\u001b[1;33m \u001b[0mplt\u001b[0m\u001b[1;33m.\u001b[0m\u001b[0mbar\u001b[0m\u001b[1;33m(\u001b[0m\u001b[1;33m[\u001b[0m\u001b[0mx\u001b[0m \u001b[1;32mfor\u001b[0m \u001b[0mx\u001b[0m \u001b[1;32min\u001b[0m \u001b[0mrange\u001b[0m\u001b[1;33m(\u001b[0m\u001b[0mlen\u001b[0m\u001b[1;33m(\u001b[0m\u001b[0mimportance\u001b[0m\u001b[1;33m)\u001b[0m\u001b[1;33m)\u001b[0m\u001b[1;33m]\u001b[0m\u001b[1;33m,\u001b[0m \u001b[0mimportance\u001b[0m\u001b[1;33m)\u001b[0m\u001b[1;33m\u001b[0m\u001b[1;33m\u001b[0m\u001b[0m\n\u001b[0m\u001b[0;32m      3\u001b[0m \u001b[0mplt\u001b[0m\u001b[1;33m.\u001b[0m\u001b[0mshow\u001b[0m\u001b[1;33m(\u001b[0m\u001b[1;33m)\u001b[0m\u001b[1;33m\u001b[0m\u001b[1;33m\u001b[0m\u001b[0m\n",
      "\u001b[1;31mNameError\u001b[0m: name 'importance' is not defined"
     ]
    }
   ],
   "source": [
    "# plot feature importance\n",
    "plt.bar([x for x in range(len(importance))], importance)\n",
    "plt.show()"
   ]
  },
  {
   "cell_type": "code",
   "execution_count": null,
   "id": "8a420a3c",
   "metadata": {},
   "outputs": [],
   "source": [
    "MSE_lr = round(mean_squared_error(y_test, y_lr_pred),4)\n",
    "print(\"MSE linear: %f\" % MSE_lr)\n",
    "result['MSE linear'] = MSE_lr"
   ]
  },
  {
   "cell_type": "code",
   "execution_count": null,
   "id": "764639e6",
   "metadata": {},
   "outputs": [],
   "source": [
    "RMSE_lr = round(mean_squared_error(y_test, y_lr_pred, squared=False),4)\n",
    "print(\"RMSE linear: %f\" % RMSE_lr)\n",
    "result['RMSE linear'] = RMSE_lr"
   ]
  },
  {
   "cell_type": "code",
   "execution_count": null,
   "id": "4d8497f8",
   "metadata": {},
   "outputs": [],
   "source": [
    "MAE_lr = round(mean_absolute_error(y_test, y_lr_pred),4)\n",
    "print(\"MAE linear: %f\" % MAE_lr)\n",
    "result['MAE linear'] = MAE_lr"
   ]
  },
  {
   "cell_type": "code",
   "execution_count": null,
   "id": "f01c6906",
   "metadata": {},
   "outputs": [],
   "source": [
    "#r2_score_tree = round(r2_score(y_test, y_pred_test),4)\n",
    "#print(\"R2 test tree: %f\" % r2_score_tree)\n",
    "result['R2 linear'] = r_2_lr"
   ]
  },
  {
   "cell_type": "markdown",
   "id": "8ae09f0d",
   "metadata": {},
   "source": [
    "# KNN"
   ]
  },
  {
   "cell_type": "code",
   "execution_count": 11,
   "id": "40aca93d",
   "metadata": {},
   "outputs": [
    {
     "ename": "NameError",
     "evalue": "name 'X_train' is not defined",
     "output_type": "error",
     "traceback": [
      "\u001b[1;31m---------------------------------------------------------------------------\u001b[0m",
      "\u001b[1;31mNameError\u001b[0m                                 Traceback (most recent call last)",
      "\u001b[1;32m~\\AppData\\Local\\Temp/ipykernel_16752/2968237031.py\u001b[0m in \u001b[0;36m<module>\u001b[1;34m\u001b[0m\n\u001b[0;32m      6\u001b[0m \u001b[1;31m#Knn Model Creation\u001b[0m\u001b[1;33m\u001b[0m\u001b[1;33m\u001b[0m\u001b[0m\n\u001b[0;32m      7\u001b[0m     \u001b[0mknn\u001b[0m\u001b[1;33m=\u001b[0m\u001b[0mKNeighborsRegressor\u001b[0m\u001b[1;33m(\u001b[0m\u001b[0mn_neighbors\u001b[0m\u001b[1;33m=\u001b[0m\u001b[0mint\u001b[0m\u001b[1;33m(\u001b[0m\u001b[0mi\u001b[0m\u001b[1;33m)\u001b[0m\u001b[1;33m)\u001b[0m\u001b[1;33m\u001b[0m\u001b[1;33m\u001b[0m\u001b[0m\n\u001b[1;32m----> 8\u001b[1;33m     \u001b[0mmodel_knn\u001b[0m\u001b[1;33m=\u001b[0m\u001b[0mknn\u001b[0m\u001b[1;33m.\u001b[0m\u001b[0mfit\u001b[0m\u001b[1;33m(\u001b[0m\u001b[0mX_train\u001b[0m\u001b[1;33m,\u001b[0m\u001b[0my_train\u001b[0m\u001b[1;33m)\u001b[0m\u001b[1;33m\u001b[0m\u001b[1;33m\u001b[0m\u001b[0m\n\u001b[0m\u001b[0;32m      9\u001b[0m     \u001b[0my_knn_pred\u001b[0m\u001b[1;33m=\u001b[0m\u001b[0mmodel_knn\u001b[0m\u001b[1;33m.\u001b[0m\u001b[0mpredict\u001b[0m\u001b[1;33m(\u001b[0m\u001b[0mX_test\u001b[0m\u001b[1;33m)\u001b[0m\u001b[1;33m\u001b[0m\u001b[1;33m\u001b[0m\u001b[0m\n\u001b[0;32m     10\u001b[0m \u001b[1;33m\u001b[0m\u001b[0m\n",
      "\u001b[1;31mNameError\u001b[0m: name 'X_train' is not defined"
     ]
    },
    {
     "data": {
      "image/png": "[encoded data removed]",
      "text/plain": [
       "<Figure size 720x720 with 1 Axes>"
      ]
     },
     "metadata": {
      "needs_background": "light"
     },
     "output_type": "display_data"
    }
   ],
   "source": [
    "fig,ax=plt.subplots(figsize=(10,10))\n",
    "k_list=np.arange(1,100,1)\n",
    "knn_dict={} # To store k and mse pairs\n",
    "\n",
    "for i in k_list:\n",
    "#Knn Model Creation\n",
    "    knn=KNeighborsRegressor(n_neighbors=int(i))\n",
    "    model_knn=knn.fit(X_train,y_train)\n",
    "    y_knn_pred=model_knn.predict(X_test)\n",
    "\n",
    "    #Storing MSE \n",
    "    mse=mean_squared_error(y_test,y_knn_pred)\n",
    "    knn_dict[i]=mse\n",
    "\n",
    "#Plotting the results\n",
    "ax.plot(knn_dict.keys(),knn_dict.values())\n",
    "ax.set_xlabel('K-VALUE', fontsize=20)\n",
    "ax.set_ylabel('MSE' ,fontsize=20)\n",
    "ax.xaxis.set_ticks(np.arange(-0, 99, 3))\n",
    "ax.set_title('ELBOW PLOT' ,fontsize=28)"
   ]
  },
  {
   "cell_type": "markdown",
   "id": "c9f2b1f8",
   "metadata": {},
   "source": [
    "16 Neighbours give the lowest mean squared error"
   ]
  },
  {
   "cell_type": "code",
   "execution_count": null,
   "id": "d25aa5dc",
   "metadata": {},
   "outputs": [],
   "source": [
    "knn=KNeighborsRegressor(n_neighbors=16)\n",
    "model_knn=knn.fit(X_train,y_train)\n",
    "y_knn_pred=model_knn.predict(X_test)"
   ]
  },
  {
   "cell_type": "code",
   "execution_count": null,
   "id": "b753bff7",
   "metadata": {},
   "outputs": [],
   "source": [
    "mean_squared_error(y_test,y_knn_pred)"
   ]
  },
  {
   "cell_type": "code",
   "execution_count": null,
   "id": "1c85fc91",
   "metadata": {},
   "outputs": [],
   "source": [
    "r_2_knn = r2_score(y_test, y_knn_pred)"
   ]
  },
  {
   "cell_type": "code",
   "execution_count": null,
   "id": "8753b104",
   "metadata": {},
   "outputs": [],
   "source": [
    "r_2_knn"
   ]
  },
  {
   "cell_type": "code",
   "execution_count": null,
   "id": "aa5210a2",
   "metadata": {},
   "outputs": [],
   "source": [
    "r2_score_knn = round(r_2_knn,5)\n",
    "result['R2 knn'] = r2_score_knn"
   ]
  },
  {
   "cell_type": "code",
   "execution_count": null,
   "id": "eea42490",
   "metadata": {},
   "outputs": [],
   "source": [
    "MAE_knn = round(mean_absolute_error(y_test, y_knn_pred),4)\n",
    "print(\"MAE knn: %f\" % MAE_knn)\n",
    "result['MAE knn'] = MAE_knn"
   ]
  },
  {
   "cell_type": "code",
   "execution_count": null,
   "id": "b642011d",
   "metadata": {},
   "outputs": [],
   "source": [
    "RMSE_knn = round(mean_squared_error(y_test, y_knn_pred, squared=False),4)\n",
    "print(\"RMSE knn: %f\" % RMSE_knn)\n",
    "result['RMSE knn'] = RMSE_knn"
   ]
  },
  {
   "cell_type": "code",
   "execution_count": null,
   "id": "3af8c952",
   "metadata": {},
   "outputs": [],
   "source": [
    "MSE_knn = round(mean_squared_error(y_test, y_knn_pred),4)\n",
    "print(\"MSE knn: %f\" % MSE_knn)\n",
    "result['MSE knn'] = MSE_knn"
   ]
  },
  {
   "cell_type": "markdown",
   "id": "ad6bc3b7",
   "metadata": {},
   "source": [
    "# DECISION TREE "
   ]
  },
  {
   "cell_type": "code",
   "execution_count": null,
   "id": "4ca989fa",
   "metadata": {},
   "outputs": [],
   "source": [
    "g_cv = GridSearchCV(DecisionTreeRegressor(random_state=42),\n",
    "              param_grid={'max_depth': range(1, 10), 'min_samples_leaf':range(1,5)})\n",
    "\n",
    "g_cv.fit(X_train, y_train)\n",
    "print('Best calculated parameters for Decision Tree Regressor is: {}'.format(g_cv.best_params_))"
   ]
  },
  {
   "cell_type": "code",
   "execution_count": null,
   "id": "4e0c1861",
   "metadata": {},
   "outputs": [],
   "source": [
    "model_dt=g_cv.best_estimator_\n",
    "\n",
    "y_dt_pred=model_dt.predict(X_test)"
   ]
  },
  {
   "cell_type": "code",
   "execution_count": null,
   "id": "1eadd198",
   "metadata": {},
   "outputs": [],
   "source": [
    "r2_dt = round(r2_score(y_test, y_dt_pred),4)\n",
    "r2_dt"
   ]
  },
  {
   "cell_type": "code",
   "execution_count": null,
   "id": "2d4c9ed8",
   "metadata": {},
   "outputs": [],
   "source": [
    "MSE_tree = round(mean_squared_error(y_test, y_dt_pred),4)\n",
    "print(\"MSE tree: %f\" % MSE_tree)\n",
    "result['MSE tree'] = MSE_tree"
   ]
  },
  {
   "cell_type": "code",
   "execution_count": null,
   "id": "45005ec5",
   "metadata": {},
   "outputs": [],
   "source": [
    "RMSE_tree = round(mean_squared_error(y_test, y_dt_pred, squared=False),4)\n",
    "print(\"RMSE tree: %f\" % RMSE_tree)\n",
    "result['RMSE tree'] = RMSE_tree"
   ]
  },
  {
   "cell_type": "code",
   "execution_count": null,
   "id": "864f46ac",
   "metadata": {},
   "outputs": [],
   "source": [
    "MAE_tree = round(mean_absolute_error(y_test, y_dt_pred),4)\n",
    "print(\"MAE tree: %f\" % MAE_tree)\n",
    "result['MAE tree'] = MAE_tree"
   ]
  },
  {
   "cell_type": "code",
   "execution_count": null,
   "id": "e6b57ca8",
   "metadata": {},
   "outputs": [],
   "source": [
    "result['R2 tree'] = r2_dt"
   ]
  },
  {
   "cell_type": "code",
   "execution_count": null,
   "id": "ad36137a",
   "metadata": {},
   "outputs": [],
   "source": [
    "fig = plt.figure(figsize=(25,20))\n",
    "_ = tree.plot_tree(model_dt, \n",
    "                   feature_names=feat_names,  \n",
    "                   class_names=label,\n",
    "                   filled=True)"
   ]
  },
  {
   "cell_type": "code",
   "execution_count": null,
   "id": "72f7d544",
   "metadata": {},
   "outputs": [],
   "source": [
    "X = pd.DataFrame(X)\n",
    "\n",
    "#Per calcolare l’importanza delle caratteristiche\n",
    "\n",
    "importances = pd.DataFrame({'feature':feat_names ,'importance':np.round(model_dt.feature_importances_,6)}) \n",
    "importances = importances.sort_values('importance',ascending=False)\n",
    "importances"
   ]
  },
  {
   "cell_type": "markdown",
   "id": "a6834b19",
   "metadata": {},
   "source": [
    "# RANDOM FOREST"
   ]
  },
  {
   "cell_type": "code",
   "execution_count": null,
   "id": "9ad75bbc",
   "metadata": {},
   "outputs": [],
   "source": [
    "g_cv = GridSearchCV(RandomForestRegressor(random_state=42),\n",
    "              param_grid={'n_estimators': range(1, 50)})\n",
    "\n",
    "g_cv.fit(X_train, y_train)\n",
    "print('Best calculated parameters for Random Forest Regressor is: {}'.format(g_cv.best_params_))"
   ]
  },
  {
   "cell_type": "code",
   "execution_count": null,
   "id": "803196fc",
   "metadata": {},
   "outputs": [],
   "source": [
    "model_rf=g_cv.best_estimator_\n",
    "\n",
    "y_rf_pred=model_rf.predict(X_test)"
   ]
  },
  {
   "cell_type": "code",
   "execution_count": null,
   "id": "7555c6c7",
   "metadata": {},
   "outputs": [],
   "source": [
    "r2_rf = round(r2_score(y_test, y_rf_pred),4)\n",
    "r2_rf"
   ]
  },
  {
   "cell_type": "code",
   "execution_count": null,
   "id": "12cda59b",
   "metadata": {},
   "outputs": [],
   "source": [
    "result['R2 forest'] = r2_rf"
   ]
  },
  {
   "cell_type": "code",
   "execution_count": null,
   "id": "121abc4f",
   "metadata": {},
   "outputs": [],
   "source": [
    "MSE_tree = round(mean_squared_error(y_test, y_rf_pred),4)\n",
    "print(\"MSE forest: %f\" % MSE_tree)\n",
    "result['MSE forest'] = MSE_tree"
   ]
  },
  {
   "cell_type": "code",
   "execution_count": null,
   "id": "dcd43a33",
   "metadata": {},
   "outputs": [],
   "source": [
    "RMSE_tree = round(mean_squared_error(y_test, y_rf_pred, squared=False),4)\n",
    "print(\"RMSE forest: %f\" % RMSE_tree)\n",
    "result['RMSE forest'] = RMSE_tree"
   ]
  },
  {
   "cell_type": "code",
   "execution_count": null,
   "id": "1a38c08d",
   "metadata": {},
   "outputs": [],
   "source": [
    "MAE_tree = round(mean_absolute_error(y_test, y_rf_pred),4)\n",
    "print(\"MAE forest: %f\" % MAE_tree)\n",
    "result['MAE forest'] = MAE_tree"
   ]
  },
  {
   "cell_type": "code",
   "execution_count": null,
   "id": "456e427d",
   "metadata": {},
   "outputs": [],
   "source": [
    "importances = model_rf.feature_importances_\n",
    "std = np.std([tree.feature_importances_ for tree in model_rf.estimators_], axis=0)\n",
    "forest_importances = pd.Series(importances, index=feat_names)\n",
    "\n",
    "fig, ax = plt.subplots(figsize=(15,5))\n",
    "\n",
    "forest_importances.plot.bar(yerr=std, ax=ax)\n",
    "ax.set_title(\"Feature importances\")\n",
    "ax.set_ylabel(\"Mean decrease in impurity\")\n",
    "fig.tight_layout()"
   ]
  },
  {
   "cell_type": "markdown",
   "id": "6ba388ff",
   "metadata": {},
   "source": [
    "The higher the mean reduction in impurity the higher the importance of the featur\n",
    "The black bar is standard deviation, the longer the bar the higher the difference between the members of the group and the mean value of the feature"
   ]
  },
  {
   "cell_type": "markdown",
   "id": "85edf680",
   "metadata": {},
   "source": [
    "# KMEANS"
   ]
  },
  {
   "cell_type": "code",
   "execution_count": null,
   "id": "aaa26bb6",
   "metadata": {},
   "outputs": [],
   "source": [
    "kmeans = KMeans(\n",
    "    init=\"random\",\n",
    "    n_clusters=3,\n",
    "    n_init=10,               \n",
    "    max_iter=300,\n",
    "    random_state=42\n",
    "    )"
   ]
  },
  {
   "cell_type": "code",
   "execution_count": null,
   "id": "2a4f17a9",
   "metadata": {},
   "outputs": [],
   "source": [
    "kmeans.fit(X)"
   ]
  },
  {
   "cell_type": "code",
   "execution_count": null,
   "id": "6a22686f",
   "metadata": {},
   "outputs": [],
   "source": [
    "#lowest SSE from initializations\n",
    "kmeans.inertia_"
   ]
  },
  {
   "cell_type": "code",
   "execution_count": null,
   "id": "ed52d249",
   "metadata": {},
   "outputs": [],
   "source": [
    "#centroids location\n",
    "kmeans.cluster_centers_"
   ]
  },
  {
   "cell_type": "code",
   "execution_count": null,
   "id": "c2a2251b",
   "metadata": {},
   "outputs": [],
   "source": [
    "#number of iteration to converge\n",
    "kmeans.n_iter_"
   ]
  },
  {
   "cell_type": "code",
   "execution_count": null,
   "id": "a4799676",
   "metadata": {},
   "outputs": [],
   "source": [
    "#dictionary with kmeans parameters\n",
    "\n",
    "kmeans_kwargs = {\n",
    "    \"init\": \"random\",\n",
    "    \"n_init\": 10,\n",
    "    \"max_iter\": 300,\n",
    "    \"random_state\": 42,\n",
    "    }"
   ]
  },
  {
   "cell_type": "code",
   "execution_count": null,
   "id": "3d1804fa",
   "metadata": {},
   "outputs": [],
   "source": [
    "# A list to hold the SSE values for each k\n",
    "sse = []\n",
    "for k in range(1, 11):\n",
    "    kmeans = KMeans(n_clusters=k, **kmeans_kwargs)       #unpacking operator to cycle over a dictionary\n",
    "    kmeans.fit(X)\n",
    "    sse.append(kmeans.inertia_)"
   ]
  },
  {
   "cell_type": "code",
   "execution_count": null,
   "id": "8f671936",
   "metadata": {},
   "outputs": [],
   "source": [
    "plt.style.use(\"fivethirtyeight\")\n",
    "plt.plot(range(1, 11), sse)\n",
    "plt.xticks(range(1, 11))\n",
    "plt.xlabel(\"Number of Clusters\")\n",
    "plt.ylabel(\"SSE\")\n",
    "plt.show()"
   ]
  },
  {
   "cell_type": "code",
   "execution_count": null,
   "id": "ad00a381",
   "metadata": {},
   "outputs": [],
   "source": [
    "kl = KneeLocator(range(1, 11), sse, curve=\"convex\", direction=\"decreasing\")"
   ]
  },
  {
   "cell_type": "code",
   "execution_count": null,
   "id": "36e608a9",
   "metadata": {},
   "outputs": [],
   "source": [
    "# locating the best number of centroids (best compromise between number of centroids and SSE)\n",
    "\n",
    "kl.elbow"
   ]
  },
  {
   "cell_type": "code",
   "execution_count": null,
   "id": "f4dbcefa",
   "metadata": {},
   "outputs": [],
   "source": [
    "kmeans = KMeans(\n",
    "    init=\"random\",\n",
    "    n_clusters=kl.elbow,\n",
    "    n_init=10,               #return the lowest SSE run out of ten initializations\n",
    "    max_iter=300,\n",
    "    random_state=42\n",
    "    )     \n",
    "km = kmeans.fit_predict(X)"
   ]
  },
  {
   "cell_type": "code",
   "execution_count": null,
   "id": "540a31ac",
   "metadata": {},
   "outputs": [],
   "source": [
    "#cluster assignement to each element of spec\n",
    "cluster_labels = kmeans.labels_"
   ]
  },
  {
   "cell_type": "code",
   "execution_count": null,
   "id": "719ae833",
   "metadata": {},
   "outputs": [],
   "source": [
    "X=pd.DataFrame.reset_index(X)\n",
    "cluster_labels = pd.DataFrame(cluster_labels)\n",
    "X['cluster']=cluster_labels"
   ]
  },
  {
   "cell_type": "code",
   "execution_count": null,
   "id": "b8cf8fe0",
   "metadata": {},
   "outputs": [],
   "source": [
    "X.drop('index', axis=1, inplace=True)"
   ]
  },
  {
   "cell_type": "code",
   "execution_count": null,
   "id": "d8bf4d39",
   "metadata": {},
   "outputs": [],
   "source": [
    "kl.elbow"
   ]
  },
  {
   "cell_type": "code",
   "execution_count": null,
   "id": "81a1ea7a",
   "metadata": {},
   "outputs": [],
   "source": [
    "#km = kmeans.fit_predict(X)"
   ]
  },
  {
   "cell_type": "code",
   "execution_count": null,
   "id": "ce56b1a0",
   "metadata": {},
   "outputs": [],
   "source": [
    "pan = []\n",
    "for i in range(kl.elbow):\n",
    "    pan.append (km == i)"
   ]
  },
  {
   "cell_type": "code",
   "execution_count": null,
   "id": "6549aa41",
   "metadata": {},
   "outputs": [],
   "source": [
    "a1= df1[pan[0]]\n",
    "a2 =df1[pan[1]]\n",
    "a3 = df1[pan[2]]\n",
    "a4 = df1[pan[3]]"
   ]
  },
  {
   "cell_type": "code",
   "execution_count": null,
   "id": "0d855b7d",
   "metadata": {},
   "outputs": [],
   "source": [
    "a1[\"Cluster\"] = \"a1\"\n",
    "a2[\"Cluster\"] = \"a2\"\n",
    "a3[\"Cluster\"] = \"a3\"\n",
    "a4[\"Cluster\"] = \"a4\"\n",
    "a = pd.concat([a1, a2, a3, a4])\n",
    "a.to_csv('out.csv', index = False, sep = \";\", decimal= \",\")"
   ]
  },
  {
   "cell_type": "code",
   "execution_count": null,
   "id": "1e7aa361",
   "metadata": {},
   "outputs": [],
   "source": [
    "a1.school.value_counts()"
   ]
  },
  {
   "cell_type": "code",
   "execution_count": null,
   "id": "2d661fb2",
   "metadata": {},
   "outputs": [],
   "source": [
    "a1.sex.value_counts()"
   ]
  },
  {
   "cell_type": "code",
   "execution_count": null,
   "id": "a33df46b",
   "metadata": {},
   "outputs": [],
   "source": [
    "a1.address.value_counts()"
   ]
  },
  {
   "cell_type": "code",
   "execution_count": null,
   "id": "9387c2be",
   "metadata": {},
   "outputs": [],
   "source": [
    "a1.famsize.value_counts()"
   ]
  },
  {
   "cell_type": "code",
   "execution_count": null,
   "id": "a96ab2e9",
   "metadata": {},
   "outputs": [],
   "source": [
    "a1.Pstatus.value_counts()"
   ]
  },
  {
   "cell_type": "code",
   "execution_count": null,
   "id": "b6a2f4c1",
   "metadata": {},
   "outputs": [],
   "source": [
    "a1.famsup.value_counts()"
   ]
  },
  {
   "cell_type": "code",
   "execution_count": null,
   "id": "0713a9dc",
   "metadata": {},
   "outputs": [],
   "source": [
    "a1.internet.value_counts()"
   ]
  },
  {
   "cell_type": "code",
   "execution_count": null,
   "id": "2fd91980",
   "metadata": {},
   "outputs": [],
   "source": [
    "a1.romantic.value_counts()"
   ]
  },
  {
   "cell_type": "code",
   "execution_count": null,
   "id": "0484bc37",
   "metadata": {},
   "outputs": [],
   "source": [
    "a1.describe()\n",
    "#corrisponde al cluster 3; questi hanno un voto medio pari al 7.65  andiamo ad analizzare gli attributi che hanno una std più bassa per fare delle valutazioni"
   ]
  },
  {
   "cell_type": "code",
   "execution_count": null,
   "id": "87d657fe",
   "metadata": {},
   "outputs": [],
   "source": [
    "a1.Fedu.value_counts()\n",
    "#questo cluster si caratterizza per un educazione scolastica paterna piuttosto bassa"
   ]
  },
  {
   "cell_type": "code",
   "execution_count": null,
   "id": "0641f1ba",
   "metadata": {},
   "outputs": [],
   "source": [
    "a1.studytime.value_counts()\n",
    "#il tempo di studio settimanale non supera le 5 ore"
   ]
  },
  {
   "cell_type": "code",
   "execution_count": null,
   "id": "b2094059",
   "metadata": {},
   "outputs": [],
   "source": [
    "a1.famrel.value_counts()\n",
    "#buone relazioni familiari"
   ]
  },
  {
   "cell_type": "code",
   "execution_count": null,
   "id": "d2f728f4",
   "metadata": {},
   "outputs": [],
   "source": [
    "a1.traveltime.value_counts()\n",
    "#il tempo per raggiungere la scuola non supera i 30 minuti"
   ]
  },
  {
   "cell_type": "code",
   "execution_count": null,
   "id": "b873961d",
   "metadata": {},
   "outputs": [],
   "source": [
    "a1.Talc.value_counts()\n",
    "#come possiamo vedere in realtà questo cluster non si caratterizza per un alto consumo di alcool"
   ]
  },
  {
   "cell_type": "code",
   "execution_count": null,
   "id": "54b54024",
   "metadata": {},
   "outputs": [],
   "source": [
    "a1.Medu.value_counts()\n",
    "#il livello di educazione scolastica materna è compreso in valori piuttosto bassi"
   ]
  },
  {
   "cell_type": "code",
   "execution_count": null,
   "id": "e6f16e0a",
   "metadata": {},
   "outputs": [],
   "source": [
    "a2.describe()\n",
    "#corrisponde al cluster 4 che si caratterizza per un voto medio pari a 11.24"
   ]
  },
  {
   "cell_type": "code",
   "execution_count": null,
   "id": "62048858",
   "metadata": {},
   "outputs": [],
   "source": [
    "a2.school.value_counts()"
   ]
  },
  {
   "cell_type": "code",
   "execution_count": null,
   "id": "fd70c235",
   "metadata": {},
   "outputs": [],
   "source": [
    "a2.sex.value_counts()"
   ]
  },
  {
   "cell_type": "code",
   "execution_count": null,
   "id": "569d6458",
   "metadata": {},
   "outputs": [],
   "source": [
    "a2.address.value_counts()"
   ]
  },
  {
   "cell_type": "code",
   "execution_count": null,
   "id": "ca52d58e",
   "metadata": {},
   "outputs": [],
   "source": [
    "a2.famsize.value_counts()"
   ]
  },
  {
   "cell_type": "code",
   "execution_count": null,
   "id": "5dc0c067",
   "metadata": {},
   "outputs": [],
   "source": [
    "a2.Pstatus.value_counts()"
   ]
  },
  {
   "cell_type": "code",
   "execution_count": null,
   "id": "3e594fe3",
   "metadata": {},
   "outputs": [],
   "source": [
    "a2.famsup.value_counts()"
   ]
  },
  {
   "cell_type": "code",
   "execution_count": null,
   "id": "9d5cfcaf",
   "metadata": {},
   "outputs": [],
   "source": [
    "a2.internet.value_counts()"
   ]
  },
  {
   "cell_type": "code",
   "execution_count": null,
   "id": "1dbfd436",
   "metadata": {},
   "outputs": [],
   "source": [
    "a2.romantic.value_counts()"
   ]
  },
  {
   "cell_type": "code",
   "execution_count": null,
   "id": "a39203a0",
   "metadata": {},
   "outputs": [],
   "source": [
    "a2.traveltime.value_counts()\n",
    "#il tempo di viaggio per raggiungere la scuola non supera i 30 minuti"
   ]
  },
  {
   "cell_type": "code",
   "execution_count": null,
   "id": "a7d2d792",
   "metadata": {},
   "outputs": [],
   "source": [
    "a2.Medu.value_counts()\n",
    "#questo cluster si caratterizza per un'educazione scolastica materna piuttosto elevata"
   ]
  },
  {
   "cell_type": "code",
   "execution_count": null,
   "id": "26448e70",
   "metadata": {},
   "outputs": [],
   "source": [
    "a2.failures.value_counts()\n",
    "#il cluster si caratterizza per un numero di insufficienze molto basso"
   ]
  },
  {
   "cell_type": "code",
   "execution_count": null,
   "id": "d2032451",
   "metadata": {},
   "outputs": [],
   "source": [
    "a2.studytime.value_counts()\n",
    "#il tempo di studio dedicato oscilla tra le 2 e le 10 ore"
   ]
  },
  {
   "cell_type": "code",
   "execution_count": null,
   "id": "835fd0cb",
   "metadata": {},
   "outputs": [],
   "source": [
    "a2.Talc.value_counts()\n",
    "#il consumo di alcool settimanale è piuttosto contenuto"
   ]
  },
  {
   "cell_type": "code",
   "execution_count": null,
   "id": "3ec877a4",
   "metadata": {},
   "outputs": [],
   "source": [
    "a2.freetime.value_counts()\n",
    "#questo cluster si caratterizza per valori di tempo libero medi"
   ]
  },
  {
   "cell_type": "code",
   "execution_count": null,
   "id": "907ece23",
   "metadata": {},
   "outputs": [],
   "source": [
    "a3.school.value_counts()"
   ]
  },
  {
   "cell_type": "code",
   "execution_count": null,
   "id": "85007057",
   "metadata": {},
   "outputs": [],
   "source": [
    "a3.sex.value_counts()"
   ]
  },
  {
   "cell_type": "code",
   "execution_count": null,
   "id": "04b3a002",
   "metadata": {},
   "outputs": [],
   "source": [
    "a3.address.value_counts()"
   ]
  },
  {
   "cell_type": "code",
   "execution_count": null,
   "id": "586a5dd8",
   "metadata": {},
   "outputs": [],
   "source": [
    "a3.famsize.value_counts()"
   ]
  },
  {
   "cell_type": "code",
   "execution_count": null,
   "id": "1473d62c",
   "metadata": {},
   "outputs": [],
   "source": [
    "a3.Pstatus.value_counts()"
   ]
  },
  {
   "cell_type": "code",
   "execution_count": null,
   "id": "bb17fd87",
   "metadata": {},
   "outputs": [],
   "source": [
    "a3.famsup.value_counts()"
   ]
  },
  {
   "cell_type": "code",
   "execution_count": null,
   "id": "970d1c44",
   "metadata": {},
   "outputs": [],
   "source": [
    "a3.romantic.value_counts()"
   ]
  },
  {
   "cell_type": "code",
   "execution_count": null,
   "id": "2bb6f255",
   "metadata": {},
   "outputs": [],
   "source": [
    "a3.internet.value_counts()"
   ]
  },
  {
   "cell_type": "code",
   "execution_count": null,
   "id": "319dd98e",
   "metadata": {},
   "outputs": [],
   "source": [
    "a3.describe()\n",
    "#corrisponde al cluster 2 e si caratterizza per un voto medio pari a 8.97"
   ]
  },
  {
   "cell_type": "code",
   "execution_count": null,
   "id": "05fbaf9f",
   "metadata": {},
   "outputs": [],
   "source": [
    "a3.Medu.value_counts()\n",
    "#il cluster si caratterizza per un livello di istruzione scolastica materno piuttosto basso"
   ]
  },
  {
   "cell_type": "code",
   "execution_count": null,
   "id": "88975c21",
   "metadata": {},
   "outputs": [],
   "source": [
    "a3.Fedu.value_counts()\n",
    "#il cluster si caratterizza per un livello di istruzione scolastica paterna piuttosto basso"
   ]
  },
  {
   "cell_type": "code",
   "execution_count": null,
   "id": "aa3f22c4",
   "metadata": {},
   "outputs": [],
   "source": [
    "a3.studytime.value_counts()\n",
    "#le ore dedicate allo studio tendenzialmente non superano le 5 ore settimanali"
   ]
  },
  {
   "cell_type": "code",
   "execution_count": null,
   "id": "92921b12",
   "metadata": {},
   "outputs": [],
   "source": [
    "a3.famrel.value_counts()\n",
    "#il cluster si caratterizza per delle buone relazioni familiari"
   ]
  },
  {
   "cell_type": "code",
   "execution_count": null,
   "id": "bd627968",
   "metadata": {},
   "outputs": [],
   "source": [
    "a3.Talc.value_counts()\n",
    "#il consumo di alcool settimanale è piuttosto contenuto"
   ]
  },
  {
   "cell_type": "code",
   "execution_count": null,
   "id": "d41903ef",
   "metadata": {},
   "outputs": [],
   "source": [
    "a3.failures.value_counts()\n",
    "#numero di insufficienze passate molto basso"
   ]
  },
  {
   "cell_type": "code",
   "execution_count": null,
   "id": "a1b1fd89",
   "metadata": {},
   "outputs": [],
   "source": [
    "a4.describe()\n",
    "#corrisponde al cluster 0, si caratterizza per un voto medio pari a 11.99"
   ]
  },
  {
   "cell_type": "code",
   "execution_count": null,
   "id": "88d2890d",
   "metadata": {},
   "outputs": [],
   "source": [
    "a4.school.value_counts()"
   ]
  },
  {
   "cell_type": "code",
   "execution_count": null,
   "id": "b9ca796a",
   "metadata": {},
   "outputs": [],
   "source": [
    "a4.sex.value_counts()"
   ]
  },
  {
   "cell_type": "code",
   "execution_count": null,
   "id": "35911c81",
   "metadata": {},
   "outputs": [],
   "source": [
    "a4.address.value_counts()"
   ]
  },
  {
   "cell_type": "code",
   "execution_count": null,
   "id": "82359974",
   "metadata": {},
   "outputs": [],
   "source": [
    "a4.famsize.value_counts()"
   ]
  },
  {
   "cell_type": "code",
   "execution_count": null,
   "id": "e20e87c0",
   "metadata": {},
   "outputs": [],
   "source": [
    "a4.Pstatus.value_counts()"
   ]
  },
  {
   "cell_type": "code",
   "execution_count": null,
   "id": "37adc001",
   "metadata": {},
   "outputs": [],
   "source": [
    "a4.famsup.value_counts()"
   ]
  },
  {
   "cell_type": "code",
   "execution_count": null,
   "id": "f8f63d6c",
   "metadata": {},
   "outputs": [],
   "source": [
    "a4.internet.value_counts()"
   ]
  },
  {
   "cell_type": "code",
   "execution_count": null,
   "id": "dfd2f591",
   "metadata": {},
   "outputs": [],
   "source": [
    "a4.romantic.value_counts()"
   ]
  },
  {
   "cell_type": "code",
   "execution_count": null,
   "id": "2c682042",
   "metadata": {},
   "outputs": [],
   "source": [
    "a4.Talc.value_counts()\n",
    "#livello di consumo dell'alcool piuttosto contenuto"
   ]
  },
  {
   "cell_type": "code",
   "execution_count": null,
   "id": "ef358ec1",
   "metadata": {},
   "outputs": [],
   "source": [
    "a4.traveltime.value_counts()\n",
    "#tempo impiegato per raggiungere la scuola non superiore ai 15 minuti generalmente"
   ]
  },
  {
   "cell_type": "code",
   "execution_count": null,
   "id": "d2c66d1c",
   "metadata": {},
   "outputs": [],
   "source": [
    "a4.studytime.value_counts()\n",
    "#le ore di studio non sono superiori a 5 generalmente"
   ]
  },
  {
   "cell_type": "code",
   "execution_count": null,
   "id": "23af3345",
   "metadata": {},
   "outputs": [],
   "source": [
    "a4.famrel.value_counts()\n",
    "#ottime relazioni familiari"
   ]
  },
  {
   "cell_type": "code",
   "execution_count": null,
   "id": "4a5604c6",
   "metadata": {},
   "outputs": [],
   "source": [
    "a4.Fedu.value_counts()\n",
    "#livello di istruzione paterna elevata"
   ]
  },
  {
   "cell_type": "code",
   "execution_count": null,
   "id": "b9ea8cdb",
   "metadata": {},
   "outputs": [],
   "source": [
    "a4.Medu.value_counts()\n",
    "#livello di istruzione materna elevata"
   ]
  },
  {
   "cell_type": "code",
   "execution_count": null,
   "id": "609d5e35",
   "metadata": {},
   "outputs": [],
   "source": [
    "a4.failures.value_counts()\n",
    "#livello di insufficienze passate quasi nullo"
   ]
  },
  {
   "cell_type": "code",
   "execution_count": null,
   "id": "4145e999",
   "metadata": {},
   "outputs": [],
   "source": [
    "a1"
   ]
  },
  {
   "cell_type": "code",
   "execution_count": null,
   "id": "4140f816",
   "metadata": {},
   "outputs": [],
   "source": [
    "Image(url= \"https://github.com/PublioZanchini/Supporto-progetto-master/blob/main/cluster01.png?raw=true\")"
   ]
  },
  {
   "cell_type": "code",
   "execution_count": null,
   "id": "e7a8b682",
   "metadata": {},
   "outputs": [],
   "source": [
    "Image(url= \"https://github.com/PublioZanchini/Supporto-progetto-master/blob/main/cluster02.png?raw=true\")"
   ]
  },
  {
   "cell_type": "code",
   "execution_count": null,
   "id": "56eb9444",
   "metadata": {},
   "outputs": [],
   "source": [
    "Image(url= \"https://github.com/PublioZanchini/Supporto-progetto-master/blob/main/cluster03.png?raw=true\")"
   ]
  },
  {
   "cell_type": "code",
   "execution_count": null,
   "id": "38062700",
   "metadata": {},
   "outputs": [],
   "source": [
    "Image(url= \"https://github.com/PublioZanchini/Supporto-progetto-master/blob/main/cluster04.png?raw=true\")"
   ]
  },
  {
   "cell_type": "code",
   "execution_count": null,
   "id": "b53f0d8c",
   "metadata": {},
   "outputs": [],
   "source": [
    "Image(url= \"https://github.com/PublioZanchini/Supporto-progetto-master/blob/main/radar%20graph%20comparison%20clusters.png?raw=true\")"
   ]
  },
  {
   "cell_type": "markdown",
   "id": "d751e0d3",
   "metadata": {},
   "source": [
    "Comparison between cluster 03 (good academic performance) and cluster 01 (low academic performance)"
   ]
  },
  {
   "cell_type": "markdown",
   "id": "af0295a1",
   "metadata": {},
   "source": [
    "# XGBOOST"
   ]
  },
  {
   "cell_type": "markdown",
   "id": "4a699d71",
   "metadata": {},
   "source": [
    "XGboost is an improved version of gradient boosting.\n",
    "Gradient boosting for regression is an iterative ensemble method using decision trees and uses a gradient descent algorithm to minimize the loss when adding new models."
   ]
  },
  {
   "cell_type": "code",
   "execution_count": null,
   "id": "ac35b4c7",
   "metadata": {},
   "outputs": [],
   "source": [
    "model = XGBRegressor(n_estimators=1000, \n",
    "                     max_depth=7, \n",
    "                     eta=0.1, \n",
    "                     subsample=0.7, \n",
    "                     colsample_bytree=0.8,\n",
    "                     seed=42)"
   ]
  },
  {
   "cell_type": "code",
   "execution_count": null,
   "id": "373f5baa",
   "metadata": {},
   "outputs": [],
   "source": [
    "model.fit(X_train,y_train)"
   ]
  },
  {
   "cell_type": "code",
   "execution_count": null,
   "id": "e24a52c5",
   "metadata": {},
   "outputs": [],
   "source": [
    "parameters = {\n",
    "    'max_depth': range (2, 10, 1),\n",
    "    'n_estimators': range(60, 220, 40),\n",
    "    'learning_rate': [0.1, 0.01, 0.05]\n",
    "}"
   ]
  },
  {
   "cell_type": "code",
   "execution_count": null,
   "id": "704df28c",
   "metadata": {},
   "outputs": [],
   "source": [
    "# Gridsearch \n",
    "# ROC AUC metric and 10-fold cross-validation.\n",
    "# number of job is how many parallel operations execute at the same time\n",
    "\n",
    "grid_search = GridSearchCV(\n",
    "    estimator=model,\n",
    "    param_grid=parameters,\n",
    "    scoring = 'roc_auc',\n",
    "    n_jobs = 10,\n",
    "    cv = 10,\n",
    "    verbose=True\n",
    ")\n",
    "\n"
   ]
  },
  {
   "cell_type": "code",
   "execution_count": null,
   "id": "ae5b8197",
   "metadata": {},
   "outputs": [],
   "source": [
    "grid_s_xgb =grid_search.fit(X_train,y_train)"
   ]
  },
  {
   "cell_type": "code",
   "execution_count": null,
   "id": "4ef89697",
   "metadata": {},
   "outputs": [],
   "source": [
    "print('Best calculated parameters for XGBoost Regressor is: {}'.format(grid_s_xgb.best_params_))"
   ]
  },
  {
   "cell_type": "code",
   "execution_count": null,
   "id": "79b9cbca",
   "metadata": {},
   "outputs": [],
   "source": [
    "model_xgboost = XGBRegressor(max_depth= grid_search.best_params_['max_depth'],\n",
    "                     n_estimators= grid_search.best_params_['n_estimators'],\n",
    "                     learning_rate= grid_search.best_params_['learning_rate'], \n",
    "                      \n",
    "                     )"
   ]
  },
  {
   "cell_type": "code",
   "execution_count": null,
   "id": "76ef4264",
   "metadata": {},
   "outputs": [],
   "source": [
    "model_xgboost.fit(X_train,y_train)"
   ]
  },
  {
   "cell_type": "code",
   "execution_count": null,
   "id": "ea8cfe4a",
   "metadata": {},
   "outputs": [],
   "source": [
    "y_xgb_pred=model_xgboost.predict(X_test)"
   ]
  },
  {
   "cell_type": "code",
   "execution_count": null,
   "id": "55c7e196",
   "metadata": {},
   "outputs": [],
   "source": [
    "r2_xgb = round(r2_score(y_test, y_xgb_pred),4)\n",
    "r2_xgb"
   ]
  },
  {
   "cell_type": "code",
   "execution_count": null,
   "id": "8cce7550",
   "metadata": {},
   "outputs": [],
   "source": [
    "result['R2 xgboost'] = r2_xgb"
   ]
  },
  {
   "cell_type": "code",
   "execution_count": null,
   "id": "9ac651de",
   "metadata": {},
   "outputs": [],
   "source": [
    "MSE_xgb = round(mean_squared_error(y_test, y_xgb_pred),4)\n",
    "print(\"MSE xgboost: %f\" % MSE_xgb)\n",
    "result['MSE xgboost'] = MSE_xgb"
   ]
  },
  {
   "cell_type": "code",
   "execution_count": null,
   "id": "4d843e3c",
   "metadata": {},
   "outputs": [],
   "source": [
    "RMSE_xgb = round(mean_squared_error(y_test, y_xgb_pred, squared=False),4)\n",
    "print(\"RMSE xgboost: %f\" % RMSE_xgb)\n",
    "result['RMSE xgboost'] = RMSE_xgb"
   ]
  },
  {
   "cell_type": "code",
   "execution_count": null,
   "id": "b6ee6f9f",
   "metadata": {},
   "outputs": [],
   "source": [
    "MAE_xgb = round(mean_absolute_error(y_test, y_xgb_pred),4)\n",
    "print(\"MAE xgboost: %f\" % MAE_xgb)\n",
    "result['MAE xgboost'] = MAE_xgb"
   ]
  },
  {
   "cell_type": "markdown",
   "id": "e9c7e082",
   "metadata": {},
   "source": [
    "# Ensemble"
   ]
  },
  {
   "cell_type": "code",
   "execution_count": null,
   "id": "7282afcb",
   "metadata": {},
   "outputs": [],
   "source": [
    "# Considering linear regressor, forest regressor, xgboost regressor as they have similar performances"
   ]
  },
  {
   "cell_type": "code",
   "execution_count": null,
   "id": "25456303",
   "metadata": {},
   "outputs": [],
   "source": [
    "# A voting regressor is an ensemble meta-estimator that fits several base regressors, each on the whole dataset. \n",
    "# Then it averages the individual predictions to form a final prediction.\n",
    "\n",
    "voting_reg = VotingRegressor(estimators=[('lr', model_lr), ('rf', model_rf), ('xgb', model_xgboost)])"
   ]
  },
  {
   "cell_type": "code",
   "execution_count": null,
   "id": "e3a7a56f",
   "metadata": {},
   "outputs": [],
   "source": [
    "#The Mean Square Error returned by sklearn.cross_validation.cross_val_score is always a negative\n",
    "\n",
    "scores = cross_val_score(voting_reg, X_train, y_train,scoring=\"neg_mean_squared_error\", cv=10)\n",
    "\n",
    "voting_reg_score = np.sqrt(-scores)"
   ]
  },
  {
   "cell_type": "code",
   "execution_count": null,
   "id": "9d6c9f78",
   "metadata": {},
   "outputs": [],
   "source": [
    "print(\"RMSE ensemble lr ,rf, xgb regressors is: {}\".format(voting_reg_score.mean()))"
   ]
  },
  {
   "cell_type": "code",
   "execution_count": null,
   "id": "532cc86a",
   "metadata": {},
   "outputs": [],
   "source": [
    "# Fitting the voting regressor on the entire training dataset\n",
    "voting_reg.fit(X_train, y_train)\n",
    "\n",
    "# Predict on test set\n",
    "y_ensemble_pred = voting_reg.predict(X_test)"
   ]
  },
  {
   "cell_type": "code",
   "execution_count": null,
   "id": "dd5be364",
   "metadata": {},
   "outputs": [],
   "source": [
    "r2_ensemble = round(r2_score(y_test, y_ensemble_pred),4)\n",
    "r2_ensemble"
   ]
  },
  {
   "cell_type": "code",
   "execution_count": null,
   "id": "6c4d9796",
   "metadata": {},
   "outputs": [],
   "source": [
    "result['R2 ensemble'] = r2_ensemble"
   ]
  },
  {
   "cell_type": "code",
   "execution_count": null,
   "id": "e34cc520",
   "metadata": {},
   "outputs": [],
   "source": [
    "MSE_ensemble = round(mean_squared_error(y_test, y_ensemble_pred),4)\n",
    "print(\"MSE ensemble: %f\" % MSE_ensemble)\n",
    "result['MSE ensemble'] = MSE_ensemble"
   ]
  },
  {
   "cell_type": "code",
   "execution_count": null,
   "id": "367fb1f0",
   "metadata": {},
   "outputs": [],
   "source": [
    "RMSE_ensemble = round(mean_squared_error(y_test, y_ensemble_pred, squared=False),4)\n",
    "print(\"RMSE ensemble: %f\" % RMSE_ensemble)\n",
    "result['RMSE ensemble'] = RMSE_ensemble"
   ]
  },
  {
   "cell_type": "code",
   "execution_count": null,
   "id": "1d2b9e40",
   "metadata": {},
   "outputs": [],
   "source": [
    "MAE_ensemble = round(mean_absolute_error(y_test, y_ensemble_pred),4)\n",
    "print(\"MAE ensemble: %f\" % MAE_ensemble)\n",
    "result['MAE ensemble'] = MAE_ensemble"
   ]
  },
  {
   "cell_type": "markdown",
   "id": "e664d04f",
   "metadata": {},
   "source": [
    "## Valutazione"
   ]
  },
  {
   "cell_type": "code",
   "execution_count": null,
   "id": "d7f0c869",
   "metadata": {},
   "outputs": [],
   "source": [
    "result"
   ]
  },
  {
   "cell_type": "code",
   "execution_count": null,
   "id": "c062216c",
   "metadata": {},
   "outputs": [],
   "source": [
    "MAE = {k: v for k, v in result.items() if k.startswith('MAE')}"
   ]
  },
  {
   "cell_type": "code",
   "execution_count": null,
   "id": "e7ba5d0d",
   "metadata": {},
   "outputs": [],
   "source": [
    "R2 = {k: v for k, v in result.items() if k.startswith('R2')}"
   ]
  },
  {
   "cell_type": "code",
   "execution_count": null,
   "id": "1244b210",
   "metadata": {},
   "outputs": [],
   "source": [
    "RMSE = {k: v for k, v in result.items() if k.startswith('RMSE')}"
   ]
  },
  {
   "cell_type": "code",
   "execution_count": null,
   "id": "674c1207",
   "metadata": {},
   "outputs": [],
   "source": [
    "MSE = {k: v for k, v in result.items() if k.startswith('MSE')}"
   ]
  },
  {
   "cell_type": "code",
   "execution_count": null,
   "id": "4e56c32b",
   "metadata": {},
   "outputs": [],
   "source": [
    "plt.bar(MAE.keys(), MAE.values(), color=['Black', 'Red','Blue','Green','Yellow','Pink'])\n",
    "plt.xlabel('Metrics')\n",
    "plt.ylabel('Value')\n",
    "plt.legend()\n",
    "plt.xticks(rotation=45)\n",
    "plt.title(\"MAE\")\n",
    "plt.show()\n",
    "min_key1 = min(MAE, key=MAE.get)\n",
    "min_value1 = min(MAE.values())\n",
    "print('Il modello migliore è il {1} con un valore di {0}'.format(min_value1,min_key1))"
   ]
  },
  {
   "cell_type": "code",
   "execution_count": null,
   "id": "11ebb909",
   "metadata": {},
   "outputs": [],
   "source": [
    "plt.bar(R2.keys(), R2.values(), color=['Black', 'Red','Blue','Green','Yellow','Pink'])\n",
    "plt.xlabel('Metrics')\n",
    "plt.ylabel('Value')\n",
    "plt.legend()\n",
    "plt.xticks(rotation=45)\n",
    "plt.title(\"R2\")\n",
    "plt.show()\n",
    "max_key2 = max(R2, key=R2.get)\n",
    "max_value2 = max(R2.values())\n",
    "print('Il modello migliore è il {1} con un valore di {0}'.format(max_value2,max_key2))"
   ]
  },
  {
   "cell_type": "code",
   "execution_count": null,
   "id": "1e1b21e3",
   "metadata": {},
   "outputs": [],
   "source": [
    "plt.bar(RMSE.keys(), RMSE.values(), color=['Black', 'Red','Blue','Green','Yellow','Pink'])\n",
    "plt.xlabel('Metrics')\n",
    "plt.ylabel('Value')\n",
    "plt.legend()\n",
    "plt.xticks(rotation=45)\n",
    "plt.title(\"RMSE\")\n",
    "plt.show()\n",
    "min_key3 = min(RMSE, key=RMSE.get)\n",
    "min_value3 = min(RMSE.values())\n",
    "print('Il modello migliore è il {1} con un valore di {0}'.format(min_value3,min_key3))"
   ]
  },
  {
   "cell_type": "code",
   "execution_count": null,
   "id": "ad031f48",
   "metadata": {},
   "outputs": [],
   "source": [
    "plt.bar(MSE.keys(), MSE.values(), color=['Black','Yellow' ,'Red','Blue','Green','Pink'])\n",
    "plt.xlabel('Metrics')\n",
    "plt.ylabel('Value')\n",
    "plt.legend()\n",
    "plt.xticks(rotation=45)\n",
    "plt.title(\"MSE\")\n",
    "plt.show()\n",
    "min_key4 = min(MSE, key=MSE.get)\n",
    "min_value4 = min(MSE.values())\n",
    "print('Il modello migliore è il {1} con un valore di {0}'.format(min_value4,min_key4))"
   ]
  },
  {
   "cell_type": "code",
   "execution_count": null,
   "id": "8a4d067d",
   "metadata": {},
   "outputs": [],
   "source": [
    "print(\"I modelli migliori per le relative metriche sono: {0}, {1}, {2}, {3}\".format(min_key1,max_key2,min_key3,min_key4))"
   ]
  },
  {
   "cell_type": "markdown",
   "id": "67f35dc8",
   "metadata": {},
   "source": [
    "# Secondo modello"
   ]
  },
  {
   "cell_type": "code",
   "execution_count": null,
   "id": "c9015d7c",
   "metadata": {},
   "outputs": [],
   "source": [
    "df2 = df1"
   ]
  },
  {
   "cell_type": "code",
   "execution_count": null,
   "id": "4bdf7b86",
   "metadata": {},
   "outputs": [],
   "source": [
    "df2.drop(['Pstatus','higher','internet'], axis=1, inplace=True)"
   ]
  },
  {
   "cell_type": "code",
   "execution_count": null,
   "id": "6e49fc7a",
   "metadata": {},
   "outputs": [],
   "source": [
    "df2['Avg_mark']= (df2['G1']+df2['G2']+df2['G3'])/3\n",
    "nonnumeric_columns = [df2.columns[index] for index, dtype in enumerate(df2.dtypes) if dtype == 'object']\n",
    "numeric_columns = [df2.columns[index] for index, dtype in enumerate(df2.dtypes) if dtype == 'int64']\n",
    "numeric_columns.remove(\"G1\")\n",
    "numeric_columns.remove(\"G2\")\n",
    "numeric_columns.remove(\"G3\")#avoid linear dependance in model, average of the three marks is target vector\n",
    "#for column in nonnumeric_columns:\n",
    "#    print(f\"{column}: {df2[column].unique()}\")\n",
    "cat_label_list = ['Mjob','Fjob', 'reason','guardian']\n",
    "X_cat_l = df2[cat_label_list] #only categorical labels\n",
    "one_hot_enc_list = [x for x in nonnumeric_columns if x not in cat_label_list]\n",
    "X_cat_oh = df2[one_hot_enc_list] #only categorical onehot columns(cioè 0 o 1)\n",
    "X_num = df2[numeric_columns] #only numerical columns\n",
    "label = ['Avg_mark'] # target\n",
    "feat_names = one_hot_enc_list+ cat_label_list+ numeric_columns # feature list\n",
    "X_cat_l = X_cat_l.apply(LabelEncoder().fit_transform)\n",
    "ohe = OneHotEncoder(sparse=False, drop='if_binary')\n",
    "X_cat_oh = ohe.fit_transform(X_cat_oh)\n",
    "X = np.concatenate([X_cat_oh, X_cat_l, X_num], axis=1)\n",
    "y = df2[label].values\n",
    "X = pd.DataFrame(X)\n",
    "scaler = StandardScaler()\n",
    "X = pd.DataFrame(scaler.fit_transform(X), columns=X.columns)\n",
    "X_train, X_test, y_train, y_test = train_test_split(X, y, train_size=0.7, random_state=42)\n",
    "result2 = {}\n",
    "#LinearRegression\n",
    "model_lr = LinearRegression()\n",
    "model_lr.fit(X_train, y_train)\n",
    "y_lr_pred=model_lr.predict(X_test)\n",
    "r_2_lr = r2_score(y_test, y_lr_pred)\n",
    "coef_list = model_lr.coef_\n",
    "MSE_lr = round(mean_squared_error(y_test, y_lr_pred),4)\n",
    "result2['MSE linear'] = MSE_lr\n",
    "RMSE_lr = round(mean_squared_error(y_test, y_lr_pred, squared=False),4)\n",
    "result2['RMSE linear'] = RMSE_lr\n",
    "MAE_lr = round(mean_absolute_error(y_test, y_lr_pred),4)\n",
    "result2['MAE linear'] = MAE_lr\n",
    "#r2_score_tree = round(r2_score(y_test, y_pred_test),4)\n",
    "#print(\"R2 test tree: %f\" % r2_score_tree)\n",
    "result2['R2 linear'] = r_2_lr\n",
    "fig,ax=plt.subplots(figsize=(10,10))\n",
    "k_list=np.arange(1,100,1)\n",
    "knn_dict={} # To store k and mse pairs\n",
    "\n",
    "for i in k_list:\n",
    "#Knn Model Creation\n",
    "    knn=KNeighborsRegressor(n_neighbors=int(i))\n",
    "    model_knn=knn.fit(X_train,y_train)\n",
    "    y_knn_pred=model_knn.predict(X_test)\n",
    "\n",
    "    #Storing MSE \n",
    "    mse=mean_squared_error(y_test,y_knn_pred)\n",
    "    knn_dict[i]=mse\n",
    "\n",
    "#Plotting the result22s\n",
    "\n",
    "knn=KNeighborsRegressor(n_neighbors=13)\n",
    "model_knn=knn.fit(X_train,y_train)\n",
    "y_knn_pred=model_knn.predict(X_test)\n",
    "r_2_knn = r2_score(y_test, y_knn_pred)\n",
    "r2_score_knn = round(r_2_knn,5)\n",
    "result2['R2 knn'] = r2_score_knn\n",
    "MAE_knn = round(mean_absolute_error(y_test, y_knn_pred),4)\n",
    "result2['MAE knn'] = MAE_knn\n",
    "RMSE_knn = round(mean_squared_error(y_test, y_knn_pred, squared=False),4)\n",
    "result2['RMSE knn'] = RMSE_knn\n",
    "MSE_knn = round(mean_squared_error(y_test, y_knn_pred),4)\n",
    "result2['MSE knn'] = MSE_knn\n",
    "g_cv = GridSearchCV(DecisionTreeRegressor(random_state=42),\n",
    "              param_grid={'max_depth': range(1, 10), 'min_samples_leaf':range(1,5)})\n",
    "\n",
    "g_cv.fit(X_train, y_train)\n",
    "print('Best calculated parameters for Decision Tree Regressor is: {}'.format(g_cv.best_params_))\n",
    "model_dt=g_cv.best_estimator_\n",
    "\n",
    "y_dt_pred=model_dt.predict(X_test)\n",
    "r2_dt = round(r2_score(y_test, y_dt_pred),4)\n",
    "r2_dt\n",
    "MSE_tree = round(mean_squared_error(y_test, y_dt_pred),4)\n",
    "result2['MSE tree'] = MSE_tree\n",
    "RMSE_tree = round(mean_squared_error(y_test, y_dt_pred, squared=False),4)\n",
    "result2['RMSE tree'] = RMSE_tree\n",
    "MAE_tree = round(mean_absolute_error(y_test, y_dt_pred),4)\n",
    "result2['MAE tree'] = MAE_tree\n",
    "result2['R2 tree'] = r2_dt\n",
    "g_cv = GridSearchCV(RandomForestRegressor(random_state=42),\n",
    "              param_grid={'n_estimators': range(1, 50)})\n",
    "\n",
    "g_cv.fit(X_train, y_train)\n",
    "print('Best calculated parameters for Random Forest Regressor is: {}'.format(g_cv.best_params_))\n",
    "model_rf=g_cv.best_estimator_\n",
    "\n",
    "y_rf_pred=model_rf.predict(X_test)\n",
    "r2_rf = r2_score(y_test, y_rf_pred)\n",
    "result2['R2 forest'] = r2_rf\n",
    "MSE_tree = round(mean_squared_error(y_test, y_rf_pred),4)\n",
    "result2['MSE forest'] = MSE_tree\n",
    "RMSE_tree = round(mean_squared_error(y_test, y_rf_pred, squared=False),4)\n",
    "result2['RMSE forest'] = RMSE_tree\n",
    "MAE_tree = round(mean_absolute_error(y_test, y_rf_pred),4)\n",
    "result2['MAE forest'] = MAE_tree\n",
    "\n",
    "# XGB\n",
    "\n",
    "model = XGBRegressor(n_estimators=1000, max_depth=7, eta=0.1, subsample=0.7, colsample_bytree=0.8, seed=42)\n",
    "\n",
    "model.fit(X_train,y_train)\n",
    "\n",
    "parameters = {\n",
    "    'max_depth': range (2, 10, 1),\n",
    "    'n_estimators': range(60, 220, 40),\n",
    "    'learning_rate': [0.1, 0.01, 0.05]\n",
    "}\n",
    "\n",
    "# In the last setup step, I configure the GridSearchCV object. \n",
    "#I choose the best hyperparameters using the ROC AUC metric to compare the results of 10-fold cross-validation.\n",
    "\n",
    "grid_search = GridSearchCV(\n",
    "    estimator=model,\n",
    "    param_grid=parameters,\n",
    "    scoring = 'roc_auc',\n",
    "    n_jobs = 10,\n",
    "    cv = 10,\n",
    "    verbose=True\n",
    ")\n",
    "grid_s_xgb =grid_search.fit(X_train,y_train)\n",
    "\n",
    "print('Best calculated parameters for XGBoost Regressor is: {}'.format(grid_s_xgb.best_params_))\n",
    "\n",
    "model_xgboost = XGBRegressor(max_depth= grid_search.best_params_['max_depth'],\n",
    "                     n_estimators= grid_search.best_params_['n_estimators'],\n",
    "                     learning_rate= grid_search.best_params_['learning_rate'], \n",
    "                      \n",
    "                     )\n",
    "\n",
    "model_xgboost.fit(X_train,y_train)\n",
    "\n",
    "y_xgb_pred=model_xgboost.predict(X_test)\n",
    "\n",
    "r2_xgb = round(r2_score(y_test, y_xgb_pred),4)\n",
    "r2_xgb\n",
    "\n",
    "result2['R2 xgboost'] = r2_xgb\n",
    "\n",
    "MSE_xgb = round(mean_squared_error(y_test, y_xgb_pred),4)\n",
    "print(\"MSE xgboost: %f\" % MSE_xgb)\n",
    "result2['MSE xgboost'] = MSE_xgb\n",
    "\n",
    "RMSE_xgb = round(mean_squared_error(y_test, y_xgb_pred, squared=False),4)\n",
    "print(\"RMSE xgboost: %f\" % RMSE_xgb)\n",
    "result2['RMSE xgboost'] = RMSE_xgb\n",
    "\n",
    "MAE_xgb = round(mean_absolute_error(y_test, y_xgb_pred),4)\n",
    "print(\"MAE xgboost: %f\" % MAE_xgb)\n",
    "result2['MAE xgboost'] = MAE_xgb\n",
    "\n",
    "\n",
    "\n",
    "MAE = {k: v for k, v in result2.items() if k.startswith('MAE')}\n",
    "R2 = {k: v for k, v in result2.items() if k.startswith('R2')}\n",
    "RMSE = {k: v for k, v in result2.items() if k.startswith('RMSE')}\n",
    "MSE = {k: v for k, v in result2.items() if k.startswith('MSE')}\n",
    "\n",
    "min_key1 = min(MAE, key=MAE.get)\n",
    "min_value1 = min(MAE.values())\n",
    "print('Il modello migliore è il {1} con un valore di {0}'.format(min_value1,min_key1))\n",
    "\n",
    "max_key2 = max(R2, key=R2.get)\n",
    "max_value2 = max(R2.values())\n",
    "print('Il modello migliore è il {1} con un valore di {0}'.format(max_value2,max_key2))\n",
    "\n",
    "min_key3 = min(RMSE, key=RMSE.get)\n",
    "min_value3 = min(RMSE.values())\n",
    "print('Il modello migliore è il {1} con un valore di {0}'.format(min_value3,min_key3))\n",
    "\n",
    "\n",
    "min_key4 = min(MSE, key=MSE.get)\n",
    "min_value4 = min(MSE.values())\n",
    "print('Il modello migliore è il {1} con un valore di {0}'.format(min_value4,min_key4))\n",
    "\n",
    "print(\"I modelli migliori sono: {0}, {1}, {2}, {3}\".format(min_key1,max_key2,min_key3,min_key4))\n"
   ]
  },
  {
   "cell_type": "code",
   "execution_count": null,
   "id": "8317a7d4",
   "metadata": {},
   "outputs": [],
   "source": [
    "result2"
   ]
  },
  {
   "cell_type": "code",
   "execution_count": null,
   "id": "9b4d7642",
   "metadata": {},
   "outputs": [],
   "source": [
    "result"
   ]
  },
  {
   "cell_type": "code",
   "execution_count": null,
   "id": "23603846",
   "metadata": {},
   "outputs": [],
   "source": [
    "print(\"Il valore di R2 xgboost è {0}, il modello è migliorato del {1} %\".format(result2['R2 xgboost'],round(((result2['R2 xgboost']-result['R2 xgboost'])/result['R2 xgboost'])*100,2)))"
   ]
  },
  {
   "cell_type": "code",
   "execution_count": null,
   "id": "a0e6d6f0",
   "metadata": {},
   "outputs": [],
   "source": [
    "%%time\n",
    "result3 = {}\n",
    "model = XGBRegressor(n_estimators=300, max_depth=12, learning_rate = 0.01, eta=0.1, subsample=0.5, colsample_bytree=0.8, seed=42)\n",
    "\n",
    "model.fit(X_train,y_train)\n",
    "\n",
    "parameters = {\n",
    "    'max_depth': range (2, 10, 1),\n",
    "    'n_estimators': range(60, 220, 40),\n",
    "    'learning_rate': [0.1, 0.01, 0.05]\n",
    "}\n",
    "\n",
    "# In the last setup step, I configure the GridSearchCV object. \n",
    "#I choose the best hyperparameters using the ROC AUC metric to compare the results of 10-fold cross-validation.\n",
    "\n",
    "grid_search = GridSearchCV(\n",
    "    estimator=model,\n",
    "    param_grid=parameters,\n",
    "    scoring = 'roc_auc',\n",
    "    n_jobs = 10,\n",
    "    cv = 10,\n",
    "    verbose=True\n",
    ")\n",
    "grid_s_xgb =grid_search.fit(X_train,y_train)\n",
    "\n",
    "print('Best calculated parameters for XGBoost Regressor is: {}'.format(grid_s_xgb.best_params_))\n",
    "\n",
    "model_xgboost = XGBRegressor(max_depth= grid_search.best_params_['max_depth'],\n",
    "                     n_estimators= grid_search.best_params_['n_estimators'],\n",
    "                     learning_rate= grid_search.best_params_['learning_rate'], \n",
    "                      \n",
    "                     )\n",
    "\n",
    "model_xgboost.fit(X_train,y_train)\n",
    "\n",
    "y_xgb_pred=model_xgboost.predict(X_test)\n",
    "\n",
    "r2_xgb = round(r2_score(y_test, y_xgb_pred),4)\n",
    "\n",
    "\n",
    "result2['R2 xgboost'] = r2_xgb\n",
    "#print(\"R2 xgboost: %f\" % r2_xgb)\n",
    "result3['R2 xgboost'] = r2_xgb\n",
    "\n",
    "MSE_xgb = round(mean_squared_error(y_test, y_xgb_pred),4)\n",
    "#print(\"MSE xgboost: %f\" % MSE_xgb)\n",
    "result3['MSE xgboost'] = MSE_xgb\n",
    "\n",
    "RMSE_xgb = round(mean_squared_error(y_test, y_xgb_pred, squared=False),4)\n",
    "#print(\"RMSE xgboost: %f\" % RMSE_xgb)\n",
    "result3['RMSE xgboost'] = RMSE_xgb\n",
    "\n",
    "MAE_xgb = round(mean_absolute_error(y_test, y_xgb_pred),4)\n",
    "#print(\"MAE xgboost: %f\" % MAE_xgb)\n",
    "result3['MAE xgboost'] = MAE_xgb\n",
    "\n",
    "MAE = {k: v for k, v in result2.items() if k.startswith('MAE')}\n",
    "R2 = {k: v for k, v in result2.items() if k.startswith('R2')}\n",
    "RMSE = {k: v for k, v in result2.items() if k.startswith('RMSE')}\n",
    "MSE = {k: v for k, v in result2.items() if k.startswith('MSE')}\n",
    "\n",
    "min_key1 = min(MAE, key=MAE.get)\n",
    "min_value1 = min(MAE.values())\n",
    "#print('Il modello migliore è il {1} con un valore di {0}'.format(min_value1,min_key1))\n",
    "\n",
    "max_key2 = max(R2, key=R2.get)\n",
    "max_value2 = max(R2.values())\n",
    "#print('Il modello migliore è il {1} con un valore di {0}'.format(max_value2,max_key2))\n",
    "\n",
    "min_key3 = min(RMSE, key=RMSE.get)\n",
    "min_value3 = min(RMSE.values())\n",
    "#print('Il modello migliore è il {1} con un valore di {0}'.format(min_value3,min_key3))\n",
    "\n",
    "\n",
    "min_key4 = min(MSE, key=MSE.get)\n",
    "min_value4 = min(MSE.values())\n",
    "#print('Il modello migliore è il {1} con un valore di {0}'.format(min_value4,min_key4))\n",
    "\n",
    "result3\n",
    "#print(\"I modelli migliori sono: {0}, {1}, {2}, {3}\".format(min_value1,max_value2,min_value3,min_value4))"
   ]
  },
  {
   "cell_type": "code",
   "execution_count": null,
   "id": "316430c5",
   "metadata": {},
   "outputs": [],
   "source": [
    "print(\"Il valore di R2 xgboost è {0}, il modello è migliorato del {1} %\".format(result3['R2 xgboost'],round(((result3['R2 xgboost']-result2['R2 xgboost'])/result2['R2 xgboost'])*100,2)))"
   ]
  },
  {
   "cell_type": "code",
   "execution_count": null,
   "id": "761b360e",
   "metadata": {},
   "outputs": [],
   "source": []
  }
 ],
 "metadata": {
  "kernelspec": {
   "display_name": "Python 3 (ipykernel)",
   "language": "python",
   "name": "python3"
  },
  "language_info": {
   "codemirror_mode": {
    "name": "ipython",
    "version": 3
   },
   "file_extension": ".py",
   "mimetype": "text/x-python",
   "name": "python",
   "nbconvert_exporter": "python",
   "pygments_lexer": "ipython3",
   "version": "3.9.7"
  }
 },
 "nbformat": 4,
 "nbformat_minor": 5
}
